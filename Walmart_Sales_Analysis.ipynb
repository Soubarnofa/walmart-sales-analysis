{
  "nbformat": 4,
  "nbformat_minor": 0,
  "metadata": {
    "colab": {
      "provenance": []
    },
    "kernelspec": {
      "name": "python3",
      "display_name": "Python 3"
    },
    "language_info": {
      "name": "python"
    }
  },
  "cells": [
    {
      "cell_type": "code",
      "execution_count": null,
      "metadata": {
        "colab": {
          "base_uri": "https://localhost:8080/",
          "height": 325
        },
        "id": "fgzIwQ7TfYUW",
        "outputId": "1a4925a3-d7a4-47a5-da8a-4715a51da2c5"
      },
      "outputs": [
        {
          "output_type": "display_data",
          "data": {
            "text/plain": [
              "<IPython.core.display.HTML object>"
            ],
            "text/html": [
              "\n",
              "     <input type=\"file\" id=\"files-a3c7c7d5-88c6-47ac-b70a-e1e79086d4da\" name=\"files[]\" multiple disabled\n",
              "        style=\"border:none\" />\n",
              "     <output id=\"result-a3c7c7d5-88c6-47ac-b70a-e1e79086d4da\">\n",
              "      Upload widget is only available when the cell has been executed in the\n",
              "      current browser session. Please rerun this cell to enable.\n",
              "      </output>\n",
              "      <script>// Copyright 2017 Google LLC\n",
              "//\n",
              "// Licensed under the Apache License, Version 2.0 (the \"License\");\n",
              "// you may not use this file except in compliance with the License.\n",
              "// You may obtain a copy of the License at\n",
              "//\n",
              "//      http://www.apache.org/licenses/LICENSE-2.0\n",
              "//\n",
              "// Unless required by applicable law or agreed to in writing, software\n",
              "// distributed under the License is distributed on an \"AS IS\" BASIS,\n",
              "// WITHOUT WARRANTIES OR CONDITIONS OF ANY KIND, either express or implied.\n",
              "// See the License for the specific language governing permissions and\n",
              "// limitations under the License.\n",
              "\n",
              "/**\n",
              " * @fileoverview Helpers for google.colab Python module.\n",
              " */\n",
              "(function(scope) {\n",
              "function span(text, styleAttributes = {}) {\n",
              "  const element = document.createElement('span');\n",
              "  element.textContent = text;\n",
              "  for (const key of Object.keys(styleAttributes)) {\n",
              "    element.style[key] = styleAttributes[key];\n",
              "  }\n",
              "  return element;\n",
              "}\n",
              "\n",
              "// Max number of bytes which will be uploaded at a time.\n",
              "const MAX_PAYLOAD_SIZE = 100 * 1024;\n",
              "\n",
              "function _uploadFiles(inputId, outputId) {\n",
              "  const steps = uploadFilesStep(inputId, outputId);\n",
              "  const outputElement = document.getElementById(outputId);\n",
              "  // Cache steps on the outputElement to make it available for the next call\n",
              "  // to uploadFilesContinue from Python.\n",
              "  outputElement.steps = steps;\n",
              "\n",
              "  return _uploadFilesContinue(outputId);\n",
              "}\n",
              "\n",
              "// This is roughly an async generator (not supported in the browser yet),\n",
              "// where there are multiple asynchronous steps and the Python side is going\n",
              "// to poll for completion of each step.\n",
              "// This uses a Promise to block the python side on completion of each step,\n",
              "// then passes the result of the previous step as the input to the next step.\n",
              "function _uploadFilesContinue(outputId) {\n",
              "  const outputElement = document.getElementById(outputId);\n",
              "  const steps = outputElement.steps;\n",
              "\n",
              "  const next = steps.next(outputElement.lastPromiseValue);\n",
              "  return Promise.resolve(next.value.promise).then((value) => {\n",
              "    // Cache the last promise value to make it available to the next\n",
              "    // step of the generator.\n",
              "    outputElement.lastPromiseValue = value;\n",
              "    return next.value.response;\n",
              "  });\n",
              "}\n",
              "\n",
              "/**\n",
              " * Generator function which is called between each async step of the upload\n",
              " * process.\n",
              " * @param {string} inputId Element ID of the input file picker element.\n",
              " * @param {string} outputId Element ID of the output display.\n",
              " * @return {!Iterable<!Object>} Iterable of next steps.\n",
              " */\n",
              "function* uploadFilesStep(inputId, outputId) {\n",
              "  const inputElement = document.getElementById(inputId);\n",
              "  inputElement.disabled = false;\n",
              "\n",
              "  const outputElement = document.getElementById(outputId);\n",
              "  outputElement.innerHTML = '';\n",
              "\n",
              "  const pickedPromise = new Promise((resolve) => {\n",
              "    inputElement.addEventListener('change', (e) => {\n",
              "      resolve(e.target.files);\n",
              "    });\n",
              "  });\n",
              "\n",
              "  const cancel = document.createElement('button');\n",
              "  inputElement.parentElement.appendChild(cancel);\n",
              "  cancel.textContent = 'Cancel upload';\n",
              "  const cancelPromise = new Promise((resolve) => {\n",
              "    cancel.onclick = () => {\n",
              "      resolve(null);\n",
              "    };\n",
              "  });\n",
              "\n",
              "  // Wait for the user to pick the files.\n",
              "  const files = yield {\n",
              "    promise: Promise.race([pickedPromise, cancelPromise]),\n",
              "    response: {\n",
              "      action: 'starting',\n",
              "    }\n",
              "  };\n",
              "\n",
              "  cancel.remove();\n",
              "\n",
              "  // Disable the input element since further picks are not allowed.\n",
              "  inputElement.disabled = true;\n",
              "\n",
              "  if (!files) {\n",
              "    return {\n",
              "      response: {\n",
              "        action: 'complete',\n",
              "      }\n",
              "    };\n",
              "  }\n",
              "\n",
              "  for (const file of files) {\n",
              "    const li = document.createElement('li');\n",
              "    li.append(span(file.name, {fontWeight: 'bold'}));\n",
              "    li.append(span(\n",
              "        `(${file.type || 'n/a'}) - ${file.size} bytes, ` +\n",
              "        `last modified: ${\n",
              "            file.lastModifiedDate ? file.lastModifiedDate.toLocaleDateString() :\n",
              "                                    'n/a'} - `));\n",
              "    const percent = span('0% done');\n",
              "    li.appendChild(percent);\n",
              "\n",
              "    outputElement.appendChild(li);\n",
              "\n",
              "    const fileDataPromise = new Promise((resolve) => {\n",
              "      const reader = new FileReader();\n",
              "      reader.onload = (e) => {\n",
              "        resolve(e.target.result);\n",
              "      };\n",
              "      reader.readAsArrayBuffer(file);\n",
              "    });\n",
              "    // Wait for the data to be ready.\n",
              "    let fileData = yield {\n",
              "      promise: fileDataPromise,\n",
              "      response: {\n",
              "        action: 'continue',\n",
              "      }\n",
              "    };\n",
              "\n",
              "    // Use a chunked sending to avoid message size limits. See b/62115660.\n",
              "    let position = 0;\n",
              "    do {\n",
              "      const length = Math.min(fileData.byteLength - position, MAX_PAYLOAD_SIZE);\n",
              "      const chunk = new Uint8Array(fileData, position, length);\n",
              "      position += length;\n",
              "\n",
              "      const base64 = btoa(String.fromCharCode.apply(null, chunk));\n",
              "      yield {\n",
              "        response: {\n",
              "          action: 'append',\n",
              "          file: file.name,\n",
              "          data: base64,\n",
              "        },\n",
              "      };\n",
              "\n",
              "      let percentDone = fileData.byteLength === 0 ?\n",
              "          100 :\n",
              "          Math.round((position / fileData.byteLength) * 100);\n",
              "      percent.textContent = `${percentDone}% done`;\n",
              "\n",
              "    } while (position < fileData.byteLength);\n",
              "  }\n",
              "\n",
              "  // All done.\n",
              "  yield {\n",
              "    response: {\n",
              "      action: 'complete',\n",
              "    }\n",
              "  };\n",
              "}\n",
              "\n",
              "scope.google = scope.google || {};\n",
              "scope.google.colab = scope.google.colab || {};\n",
              "scope.google.colab._files = {\n",
              "  _uploadFiles,\n",
              "  _uploadFilesContinue,\n",
              "};\n",
              "})(self);\n",
              "</script> "
            ]
          },
          "metadata": {}
        },
        {
          "output_type": "error",
          "ename": "KeyboardInterrupt",
          "evalue": "",
          "traceback": [
            "\u001b[0;31m---------------------------------------------------------------------------\u001b[0m",
            "\u001b[0;31mKeyboardInterrupt\u001b[0m                         Traceback (most recent call last)",
            "\u001b[0;32m/tmp/ipython-input-55-2535520808.py\u001b[0m in \u001b[0;36m<cell line: 0>\u001b[0;34m()\u001b[0m\n\u001b[1;32m      1\u001b[0m \u001b[0;32mfrom\u001b[0m \u001b[0mgoogle\u001b[0m\u001b[0;34m.\u001b[0m\u001b[0mcolab\u001b[0m \u001b[0;32mimport\u001b[0m \u001b[0mfiles\u001b[0m\u001b[0;34m\u001b[0m\u001b[0;34m\u001b[0m\u001b[0m\n\u001b[0;32m----> 2\u001b[0;31m \u001b[0muploaded\u001b[0m \u001b[0;34m=\u001b[0m \u001b[0mfiles\u001b[0m\u001b[0;34m.\u001b[0m\u001b[0mupload\u001b[0m\u001b[0;34m(\u001b[0m\u001b[0;34m)\u001b[0m\u001b[0;34m\u001b[0m\u001b[0;34m\u001b[0m\u001b[0m\n\u001b[0m",
            "\u001b[0;32m/usr/local/lib/python3.11/dist-packages/google/colab/files.py\u001b[0m in \u001b[0;36mupload\u001b[0;34m(target_dir)\u001b[0m\n\u001b[1;32m     70\u001b[0m   \"\"\"\n\u001b[1;32m     71\u001b[0m \u001b[0;34m\u001b[0m\u001b[0m\n\u001b[0;32m---> 72\u001b[0;31m   \u001b[0muploaded_files\u001b[0m \u001b[0;34m=\u001b[0m \u001b[0m_upload_files\u001b[0m\u001b[0;34m(\u001b[0m\u001b[0mmultiple\u001b[0m\u001b[0;34m=\u001b[0m\u001b[0;32mTrue\u001b[0m\u001b[0;34m)\u001b[0m\u001b[0;34m\u001b[0m\u001b[0;34m\u001b[0m\u001b[0m\n\u001b[0m\u001b[1;32m     73\u001b[0m   \u001b[0;31m# Mapping from original filename to filename as saved locally.\u001b[0m\u001b[0;34m\u001b[0m\u001b[0;34m\u001b[0m\u001b[0m\n\u001b[1;32m     74\u001b[0m   \u001b[0mlocal_filenames\u001b[0m \u001b[0;34m=\u001b[0m \u001b[0mdict\u001b[0m\u001b[0;34m(\u001b[0m\u001b[0;34m)\u001b[0m\u001b[0;34m\u001b[0m\u001b[0;34m\u001b[0m\u001b[0m\n",
            "\u001b[0;32m/usr/local/lib/python3.11/dist-packages/google/colab/files.py\u001b[0m in \u001b[0;36m_upload_files\u001b[0;34m(multiple)\u001b[0m\n\u001b[1;32m    162\u001b[0m \u001b[0;34m\u001b[0m\u001b[0m\n\u001b[1;32m    163\u001b[0m   \u001b[0;31m# First result is always an indication that the file picker has completed.\u001b[0m\u001b[0;34m\u001b[0m\u001b[0;34m\u001b[0m\u001b[0m\n\u001b[0;32m--> 164\u001b[0;31m   result = _output.eval_js(\n\u001b[0m\u001b[1;32m    165\u001b[0m       'google.colab._files._uploadFiles(\"{input_id}\", \"{output_id}\")'.format(\n\u001b[1;32m    166\u001b[0m           \u001b[0minput_id\u001b[0m\u001b[0;34m=\u001b[0m\u001b[0minput_id\u001b[0m\u001b[0;34m,\u001b[0m \u001b[0moutput_id\u001b[0m\u001b[0;34m=\u001b[0m\u001b[0moutput_id\u001b[0m\u001b[0;34m\u001b[0m\u001b[0;34m\u001b[0m\u001b[0m\n",
            "\u001b[0;32m/usr/local/lib/python3.11/dist-packages/google/colab/output/_js.py\u001b[0m in \u001b[0;36meval_js\u001b[0;34m(script, ignore_result, timeout_sec)\u001b[0m\n\u001b[1;32m     38\u001b[0m   \u001b[0;32mif\u001b[0m \u001b[0mignore_result\u001b[0m\u001b[0;34m:\u001b[0m\u001b[0;34m\u001b[0m\u001b[0;34m\u001b[0m\u001b[0m\n\u001b[1;32m     39\u001b[0m     \u001b[0;32mreturn\u001b[0m\u001b[0;34m\u001b[0m\u001b[0;34m\u001b[0m\u001b[0m\n\u001b[0;32m---> 40\u001b[0;31m   \u001b[0;32mreturn\u001b[0m \u001b[0m_message\u001b[0m\u001b[0;34m.\u001b[0m\u001b[0mread_reply_from_input\u001b[0m\u001b[0;34m(\u001b[0m\u001b[0mrequest_id\u001b[0m\u001b[0;34m,\u001b[0m \u001b[0mtimeout_sec\u001b[0m\u001b[0;34m)\u001b[0m\u001b[0;34m\u001b[0m\u001b[0;34m\u001b[0m\u001b[0m\n\u001b[0m\u001b[1;32m     41\u001b[0m \u001b[0;34m\u001b[0m\u001b[0m\n\u001b[1;32m     42\u001b[0m \u001b[0;34m\u001b[0m\u001b[0m\n",
            "\u001b[0;32m/usr/local/lib/python3.11/dist-packages/google/colab/_message.py\u001b[0m in \u001b[0;36mread_reply_from_input\u001b[0;34m(message_id, timeout_sec)\u001b[0m\n\u001b[1;32m     94\u001b[0m     \u001b[0mreply\u001b[0m \u001b[0;34m=\u001b[0m \u001b[0m_read_next_input_message\u001b[0m\u001b[0;34m(\u001b[0m\u001b[0;34m)\u001b[0m\u001b[0;34m\u001b[0m\u001b[0;34m\u001b[0m\u001b[0m\n\u001b[1;32m     95\u001b[0m     \u001b[0;32mif\u001b[0m \u001b[0mreply\u001b[0m \u001b[0;34m==\u001b[0m \u001b[0m_NOT_READY\u001b[0m \u001b[0;32mor\u001b[0m \u001b[0;32mnot\u001b[0m \u001b[0misinstance\u001b[0m\u001b[0;34m(\u001b[0m\u001b[0mreply\u001b[0m\u001b[0;34m,\u001b[0m \u001b[0mdict\u001b[0m\u001b[0;34m)\u001b[0m\u001b[0;34m:\u001b[0m\u001b[0;34m\u001b[0m\u001b[0;34m\u001b[0m\u001b[0m\n\u001b[0;32m---> 96\u001b[0;31m       \u001b[0mtime\u001b[0m\u001b[0;34m.\u001b[0m\u001b[0msleep\u001b[0m\u001b[0;34m(\u001b[0m\u001b[0;36m0.025\u001b[0m\u001b[0;34m)\u001b[0m\u001b[0;34m\u001b[0m\u001b[0;34m\u001b[0m\u001b[0m\n\u001b[0m\u001b[1;32m     97\u001b[0m       \u001b[0;32mcontinue\u001b[0m\u001b[0;34m\u001b[0m\u001b[0;34m\u001b[0m\u001b[0m\n\u001b[1;32m     98\u001b[0m     if (\n",
            "\u001b[0;31mKeyboardInterrupt\u001b[0m: "
          ]
        }
      ],
      "source": [
        "from google.colab import files\n",
        "uploaded = files.upload()"
      ]
    },
    {
      "cell_type": "code",
      "source": [
        "import pandas as pd\n",
        "\n",
        "# Replace with your uploaded filename\n",
        "df = pd.read_csv(\"Walmart.csv\", encoding='ISO-8859-1')\n",
        "df.head()"
      ],
      "metadata": {
        "id": "8MdTqjDMgus6"
      },
      "execution_count": null,
      "outputs": []
    },
    {
      "cell_type": "code",
      "source": [
        "# Check for duplicates\n",
        "print(\"Duplicate Invoice IDs:\", df['invoice_id'].duplicated().sum())\n",
        "\n",
        "# If duplicates exist, drop them\n",
        "df.drop_duplicates(subset='invoice_id', inplace=True)"
      ],
      "metadata": {
        "id": "XCLENLFQhAzT"
      },
      "execution_count": null,
      "outputs": []
    },
    {
      "cell_type": "code",
      "source": [
        "print(\"Unique Branches:\", df['Branch'].unique())\n",
        "df['Branch'] = df['Branch'].str.strip()"
      ],
      "metadata": {
        "id": "VFzsVCSJk2tO"
      },
      "execution_count": null,
      "outputs": []
    },
    {
      "cell_type": "code",
      "source": [
        "print(\"Unique Cities:\", df['City'].unique())\n",
        "df['City'] = df['City'].str.strip()"
      ],
      "metadata": {
        "id": "TlUOoz1-k8hE"
      },
      "execution_count": null,
      "outputs": []
    },
    {
      "cell_type": "code",
      "source": [
        "# 2. Strip spaces from object columns\n",
        "for col in ['Branch', 'City', 'category', 'payment_method']:\n",
        "    df[col] = df[col].astype(str).str.strip().str.title()\n",
        "\n",
        "# 3. Convert date and time\n",
        "df['date'] = pd.to_datetime(df['date'], errors='coerce')\n",
        "df['time'] = pd.to_datetime(df['time'], errors='coerce').dt.time\n",
        "\n",
        "# Normalize column names\n",
        "df.columns = df.columns.str.strip().str.lower()\n",
        "\n",
        "# Convert to numeric\n",
        "df['unit_price'] = pd.to_numeric(df['unit_price'], errors='coerce')\n",
        "df['quantity'] = pd.to_numeric(df['quantity'], errors='coerce')\n",
        "df['profit_margin'] = pd.to_numeric(df['profit_margin'], errors='coerce')\n",
        "\n",
        "# Remove invalid rows\n",
        "df = df[(df['quantity'] > 0) & (df['unit_price'] > 0)]\n",
        "\n",
        "# Fill missing profit margins\n",
        "df['profit_margin'] = df['profit_margin'].fillna(0)\n",
        "\n",
        "\n",
        "# 5. Filter rating between 1 and 10\n",
        "df = df[(df['rating'] >= 1) & (df['rating'] <= 10)]\n",
        "\n",
        "# Drop rows with any remaining nulls\n",
        "df.dropna(inplace=True)\n",
        "\n",
        "# Reset index\n",
        "df.reset_index(drop=True, inplace=True)\n",
        "\n",
        "print(\"✅ Data cleaned. Shape:\", df.shape)\n"
      ],
      "metadata": {
        "id": "3U2sk0RMlAQg"
      },
      "execution_count": null,
      "outputs": []
    },
    {
      "cell_type": "code",
      "source": [
        " #Datetime Conversion\n",
        " df['date'] = pd.to_datetime(df['date'], errors='coerce')\n",
        "df['time'] = pd.to_datetime(df['time'], format='%H:%M:%S', errors='coerce').dt.time"
      ],
      "metadata": {
        "id": "cGeR-_M3vb2E"
      },
      "execution_count": null,
      "outputs": []
    },
    {
      "cell_type": "code",
      "source": [
        " #Extract New Features\n",
        " df['day_of_week'] = df['date'].dt.day_name()\n",
        "df['month'] = df['date'].dt.month_name()\n",
        "df['hour'] = pd.to_datetime(df['time'], format='%H:%M:%S', errors='coerce').dt.hour"
      ],
      "metadata": {
        "id": "LmfX45JEvg9D"
      },
      "execution_count": null,
      "outputs": []
    },
    {
      "cell_type": "code",
      "source": [
        "#Total Sale & Profit Column\n",
        "df['total_sales'] = df['unit_price'] * df['quantity']\n",
        "df['profit'] = df['total_sales'] * df['profit_margin']\n",
        "print(df[['date', 'time', 'day_of_week', 'month', 'hour', 'total_sales', 'profit']].head())"
      ],
      "metadata": {
        "id": "P7VlkTczvoqN"
      },
      "execution_count": null,
      "outputs": []
    },
    {
      "cell_type": "code",
      "source": [
        "print(\"Shape before feature engineering:\", df.shape)\n",
        "print(df.head())\n",
        "print(df['date'].head())\n",
        "print(df['time'].head())"
      ],
      "metadata": {
        "id": "HocD64J-wSU0"
      },
      "execution_count": null,
      "outputs": []
    },
    {
      "cell_type": "code",
      "source": [
        "df['date'] = pd.to_datetime(df['date'], errors='coerce')\n",
        "df['time'] = pd.to_datetime(df['time'].astype(str), errors='coerce').dt.time\n",
        "\n",
        "# Extract features\n",
        "df['day_of_week'] = df['date'].dt.day_name()\n",
        "df['month'] = df['date'].dt.month_name()\n",
        "df['hour'] = pd.to_datetime(df['time'].astype(str), errors='coerce').dt.hour\n",
        "\n",
        "# Total sales and profit\n",
        "df['total_sales'] = df['unit_price'] * df['quantity']\n",
        "df['profit'] = df['total_sales'] * df['profit_margin']\n",
        "\n",
        "# Final check\n",
        "print(df[['date', 'time', 'day_of_week', 'month', 'hour', 'total_sales', 'profit']].head())"
      ],
      "metadata": {
        "id": "yj5PekE9wk0l"
      },
      "execution_count": null,
      "outputs": []
    },
    {
      "cell_type": "code",
      "source": [
        "import pandas as pd\n",
        "\n",
        "# Step 1: Load data\n",
        "df = pd.read_csv('Walmart.csv')\n",
        "print(\"Original shape:\", df.shape)\n",
        "\n",
        "# Step 2: Clean numeric columns\n",
        "df['quantity'] = pd.to_numeric(df['quantity'], errors='coerce')\n",
        "df['unit_price'] = pd.to_numeric(df['unit_price'], errors='coerce')\n",
        "df['profit_margin'] = pd.to_numeric(df['profit_margin'], errors='coerce').fillna(0)\n",
        "\n",
        "# Step 3: Filter out invalid rows\n",
        "df = df[(df['quantity'] > 0) & (df['unit_price'] > 0)]\n",
        "print(\"Shape after filtering quantity/unit_price:\", df.shape)\n",
        "\n",
        "# Step 4: Convert datetime\n",
        "df['date'] = pd.to_datetime(df['date'], errors='coerce')\n",
        "df['time'] = pd.to_datetime(df['time'].astype(str), errors='coerce').dt.time\n",
        "\n",
        "# Step 5: Create new features\n",
        "df['day_of_week'] = df['date'].dt.day_name()\n",
        "df['month'] = df['date'].dt.month_name()\n",
        "df['hour'] = pd.to_datetime(df['time'].astype(str), errors='coerce').dt.hour\n",
        "\n",
        "# Step 6: Total sales and profit\n",
        "df['total_sales'] = df['unit_price'] * df['quantity']\n",
        "df['profit'] = df['total_sales'] * df['profit_margin']\n",
        "\n",
        "# Final check\n",
        "print(df[['date', 'time', 'day_of_week', 'month', 'hour', 'total_sales', 'profit']].head())\n",
        "print(\"Final shape:\", df.shape)\n"
      ],
      "metadata": {
        "id": "iAGFzgzmw3_P"
      },
      "execution_count": null,
      "outputs": []
    },
    {
      "cell_type": "code",
      "source": [
        "# Print unique non-numeric values (if any)\n",
        "print(df['quantity'].unique()[:10])\n",
        "print(df['unit_price'].unique()[:10])\n",
        "\n",
        "# Try converting them, but don't filter yet\n",
        "df['quantity'] = pd.to_numeric(df['quantity'], errors='coerce')\n",
        "df['unit_price'] = pd.to_numeric(df['unit_price'], errors='coerce')\n",
        "\n",
        "# Check after conversion\n",
        "print(\"NaNs in quantity:\", df['quantity'].isna().sum())\n",
        "print(\"NaNs in unit_price:\", df['unit_price'].isna().sum())\n",
        "\n",
        "# Now print value ranges\n",
        "print(\"Quantity stats:\\n\", df['quantity'].describe())\n",
        "print(\"Unit Price stats:\\n\", df['unit_price'].describe())"
      ],
      "metadata": {
        "id": "9QiCTD-HxH1x"
      },
      "execution_count": null,
      "outputs": []
    },
    {
      "cell_type": "code",
      "source": [
        "# Remove any non-numeric characters (₹, $, commas etc.)\n",
        "df['quantity'] = df['quantity'].astype(str).str.replace(r'[^0-9.]', '', regex=True)\n",
        "df['unit_price'] = df['unit_price'].astype(str).str.replace(r'[^0-9.]', '', regex=True)\n",
        "\n",
        "# Now convert to numeric\n",
        "df['quantity'] = pd.to_numeric(df['quantity'], errors='coerce')\n",
        "df['unit_price'] = pd.to_numeric(df['unit_price'], errors='coerce')\n",
        "\n",
        "# Check again\n",
        "print(df['quantity'].describe())\n",
        "print(df['unit_price'].describe())"
      ],
      "metadata": {
        "id": "9Sd1q8eNxRBt"
      },
      "execution_count": null,
      "outputs": []
    },
    {
      "cell_type": "code",
      "source": [
        "print(df.columns.tolist())"
      ],
      "metadata": {
        "id": "HUBPcC-Kxbrz"
      },
      "execution_count": null,
      "outputs": []
    },
    {
      "cell_type": "code",
      "source": [
        "df.columns = df.columns.str.strip().str.lower().str.replace(' ', '_')"
      ],
      "metadata": {
        "id": "QQS4qqDexpw7"
      },
      "execution_count": null,
      "outputs": []
    },
    {
      "cell_type": "code",
      "source": [
        "print(df.columns.tolist())"
      ],
      "metadata": {
        "id": "Qs1Pt6BaxrQO"
      },
      "execution_count": null,
      "outputs": []
    },
    {
      "cell_type": "code",
      "source": [
        "df['quantity'] = pd.to_numeric(df['quantity'], errors='coerce')\n",
        "df['unit_price'] = pd.to_numeric(df['unit_price'], errors='coerce')\n",
        "df = df.dropna(subset=['quantity', 'unit_price'])"
      ],
      "metadata": {
        "id": "ae7ONtBqx4t3"
      },
      "execution_count": null,
      "outputs": []
    },
    {
      "cell_type": "code",
      "source": [
        "df = df[(df['quantity'] > 0) & (df['unit_price'] > 0)]"
      ],
      "metadata": {
        "id": "xMbsxKh8x_7g"
      },
      "execution_count": null,
      "outputs": []
    },
    {
      "cell_type": "code",
      "source": [
        "df['total_sales'] = df['unit_price'] * df['quantity']\n",
        "df['profit'] = df['total_sales'] * df['profit_margin']\n",
        "print(\"Final shape:\", df.shape)\n",
        "print(df[['quantity', 'unit_price', 'total_sales', 'profit']].head())"
      ],
      "metadata": {
        "id": "XoWFtXJfyCjx"
      },
      "execution_count": null,
      "outputs": []
    },
    {
      "cell_type": "code",
      "source": [
        "import pandas as pd\n",
        "\n",
        "# Convert numeric columns\n",
        "df['quantity'] = pd.to_numeric(df['quantity'], errors='coerce')\n",
        "df['unit_price'] = pd.to_numeric(df['unit_price'], errors='coerce')\n",
        "df['profit_margin'] = pd.to_numeric(df['profit_margin'], errors='coerce')\n",
        "df['rating'] = pd.to_numeric(df['rating'], errors='coerce')\n",
        "\n",
        "# Drop invalid/missing rows\n",
        "df.dropna(subset=['quantity', 'unit_price', 'profit_margin'], inplace=True)\n",
        "\n",
        "# Remove zero/negative values\n",
        "df = df[(df['quantity'] > 0) & (df['unit_price'] > 0)]\n",
        "# Convert date & time\n",
        "df['date'] = pd.to_datetime(df['date'], errors='coerce')\n",
        "df['time'] = pd.to_datetime(df['time'], format='%H:%M:%S', errors='coerce').dt.time\n",
        "\n",
        "# Extract temporal features\n",
        "df['day_of_week'] = df['date'].dt.day_name()\n",
        "df['month'] = df['date'].dt.month_name()\n",
        "df['hour'] = pd.to_datetime(df['time'], format='%H:%M:%S', errors='coerce').apply(lambda x: x.hour if pd.notnull(x) else None)\n",
        "\n",
        "# Calculate revenue and profit\n",
        "df['total_sales'] = df['unit_price'] * df['quantity']\n",
        "df['profit'] = df['total_sales'] * df['profit_margin']\n",
        "print(\"✅ Final dataset shape:\", df.shape)\n",
        "print(df.head(3))"
      ],
      "metadata": {
        "id": "RjMM2IEgyYma"
      },
      "execution_count": null,
      "outputs": []
    },
    {
      "cell_type": "code",
      "source": [
        "# Step 1: Convert 'quantity' and 'unit_price' to numeric\n",
        "df['quantity'] = pd.to_numeric(df['quantity'], errors='coerce')\n",
        "df['unit_price'] = pd.to_numeric(df['unit_price'], errors='coerce')\n",
        "\n",
        "# Step 2: Drop rows where quantity or unit_price are NaN after conversion\n",
        "df.dropna(subset=['quantity', 'unit_price'], inplace=True)\n",
        "\n",
        "# Step 3: Filter out zero or negative values\n",
        "df = df[(df['quantity'] > 0) & (df['unit_price'] > 0)]\n",
        "\n",
        "# Step 4: Print debug info\n",
        "print(\"✅ Final shape after filtering:\", df.shape)\n",
        "print(df[['quantity', 'unit_price']].describe())\n",
        "print(df[['quantity', 'unit_price']].head())"
      ],
      "metadata": {
        "id": "KyfLKP91yun6"
      },
      "execution_count": null,
      "outputs": []
    },
    {
      "cell_type": "code",
      "source": [
        "# Clean and convert to numeric\n",
        "df['quantity'] = df['quantity'].astype(str).str.replace(r'[^\\d.]', '', regex=True)\n",
        "df['unit_price'] = df['unit_price'].astype(str).str.replace(r'[^\\d.]', '', regex=True)\n",
        "\n",
        "# Convert to float\n",
        "df['quantity'] = pd.to_numeric(df['quantity'], errors='coerce')\n",
        "df['unit_price'] = pd.to_numeric(df['unit_price'], errors='coerce')\n",
        "\n",
        "# Drop rows with NaNs and filter positive\n",
        "df.dropna(subset=['quantity', 'unit_price'], inplace=True)\n",
        "df = df[(df['quantity'] > 0) & (df['unit_price'] > 0)]\n",
        "\n",
        "# Check again\n",
        "print(\"Final shape after cleaning:\", df.shape)"
      ],
      "metadata": {
        "id": "0pQnI_uAy4yw"
      },
      "execution_count": null,
      "outputs": []
    },
    {
      "cell_type": "code",
      "source": [
        "# Clean quantity and unit_price\n",
        "df = df[(df['quantity'] > 0) & (df['unit_price'] > 0)]\n",
        "\n",
        "# Fill missing profit_margin (if any)\n",
        "df['profit_margin'] = df['profit_margin'].fillna(0)\n",
        "\n",
        "# Convert to datetime\n",
        "df['date'] = pd.to_datetime(df['date'], errors='coerce')\n",
        "df['time'] = pd.to_datetime(df['time'], format='%H:%M:%S', errors='coerce').dt.time\n",
        "\n",
        "# Extract features\n",
        "df['day_of_week'] = df['date'].dt.day_name()\n",
        "df['month'] = df['date'].dt.month_name()\n",
        "df['hour'] = pd.to_datetime(df['time'], format='%H:%M:%S', errors='coerce').dt.hour\n",
        "\n",
        "# Create new metrics\n",
        "df['total_sales'] = df['unit_price'] * df['quantity']\n",
        "df['profit'] = df['total_sales'] * df['profit_margin']\n",
        "\n",
        "# Final check\n",
        "print(\"Final dataset shape:\", df.shape)\n",
        "df.head()"
      ],
      "metadata": {
        "id": "xI7qHLPGzcWl"
      },
      "execution_count": null,
      "outputs": []
    },
    {
      "cell_type": "code",
      "source": [
        "df.to_csv(\"cleaned_walmart_data.csv\", index=False)\n"
      ],
      "metadata": {
        "id": "KfIUsMz3zohN"
      },
      "execution_count": null,
      "outputs": []
    },
    {
      "cell_type": "code",
      "source": [
        "print(df.shape)\n",
        "print(df.head())\n",
        "df = df[(df['quantity'] > 0) & (df['unit_price'] > 0)]\n",
        "print(df.columns)                      # Check column names\n",
        "print(df[['quantity', 'unit_price']]) # Check sample data\n",
        "print(df.dtypes)                      # Check data types\n"
      ],
      "metadata": {
        "id": "LtCa-mMD0A9-"
      },
      "execution_count": null,
      "outputs": []
    },
    {
      "cell_type": "code",
      "source": [
        "from google.colab import files\n",
        "uploaded = files.upload()\n",
        "\n"
      ],
      "metadata": {
        "id": "rhVbbsOh0Wo-"
      },
      "execution_count": null,
      "outputs": []
    },
    {
      "cell_type": "code",
      "source": [
        "import pandas as pd\n",
        "df = pd.read_csv(\"Walmart.csv\")\n",
        "print(\"Original shape:\", df.shape)\n",
        "df.head()"
      ],
      "metadata": {
        "id": "jfLDYjQl0mHO"
      },
      "execution_count": null,
      "outputs": []
    },
    {
      "cell_type": "code",
      "source": [
        "print(df[['quantity', 'unit_price']].describe())"
      ],
      "metadata": {
        "id": "3mAKBlrS0rPJ"
      },
      "execution_count": null,
      "outputs": []
    },
    {
      "cell_type": "code",
      "source": [
        "print(df['unit_price'].describe())"
      ],
      "metadata": {
        "id": "KeczWjBy0z_4"
      },
      "execution_count": null,
      "outputs": []
    },
    {
      "cell_type": "code",
      "source": [
        "# Remove $ symbol and convert to float\n",
        "df['unit_price'] = df['unit_price'].replace('[\\$,]', '', regex=True).astype(float)\n",
        "\n",
        "# Verify it's now numeric\n",
        "print(df['unit_price'].describe())"
      ],
      "metadata": {
        "id": "9IrllOCg07qU"
      },
      "execution_count": null,
      "outputs": []
    },
    {
      "cell_type": "code",
      "source": [
        "df['total_sales'] = df['quantity'] * df['unit_price']\n",
        "df['profit'] = df['total_sales'] * df['profit_margin']\n",
        "print(df[['quantity', 'unit_price', 'total_sales', 'profit']].head())"
      ],
      "metadata": {
        "id": "QEUoPlOM1FGa"
      },
      "execution_count": null,
      "outputs": []
    },
    {
      "cell_type": "code",
      "source": [
        "print(\" Final shape:\", df.shape)\n",
        "print(df.describe(include='all'))"
      ],
      "metadata": {
        "id": "69ZirzI81KNA"
      },
      "execution_count": null,
      "outputs": []
    },
    {
      "cell_type": "code",
      "source": [
        "# Check for duplicates\n",
        "print(\"Duplicate rows:\", df.duplicated().sum())\n",
        "\n",
        "# Remove duplicates\n",
        "df = df.drop_duplicates()"
      ],
      "metadata": {
        "id": "ZUOr1bTI1YHF"
      },
      "execution_count": null,
      "outputs": []
    },
    {
      "cell_type": "code",
      "source": [
        "# Check missing values\n",
        "print(\"\\nMissing values:\\n\", df.isnull().sum())\n",
        "\n",
        "# Drop rows with nulls (if very few)\n",
        "df = df.dropna()"
      ],
      "metadata": {
        "id": "dICuMQ151aBb"
      },
      "execution_count": null,
      "outputs": []
    },
    {
      "cell_type": "code",
      "source": [
        "# Remove leading/trailing whitespace from string columns\n",
        "df = df.apply(lambda x: x.str.strip() if x.dtype == \"object\" else x)"
      ],
      "metadata": {
        "id": "RkinldsL1i1J"
      },
      "execution_count": null,
      "outputs": []
    },
    {
      "cell_type": "code",
      "source": [
        "df['total_sales'] = df['quantity'] * df['unit_price']\n",
        "df['profit'] = df['total_sales'] * df['profit_margin']"
      ],
      "metadata": {
        "id": "YqeWN4XQ1ojo"
      },
      "execution_count": null,
      "outputs": []
    },
    {
      "cell_type": "code",
      "source": [
        "print(\"Final shape:\", df.shape)\n",
        "print(\"Nulls after cleaning:\\n\", df.isnull().sum())\n",
        "print(\"Summary stats:\\n\", df.describe())"
      ],
      "metadata": {
        "colab": {
          "base_uri": "https://localhost:8080/"
        },
        "id": "YHUYBvoC1r_P",
        "outputId": "92e25672-5156-4f83-f82b-00114fc7cb40"
      },
      "execution_count": null,
      "outputs": [
        {
          "output_type": "stream",
          "name": "stdout",
          "text": [
            "Final shape: (9969, 13)\n",
            "Nulls after cleaning:\n",
            " invoice_id        0\n",
            "Branch            0\n",
            "City              0\n",
            "category          0\n",
            "unit_price        0\n",
            "quantity          0\n",
            "date              0\n",
            "time              0\n",
            "payment_method    0\n",
            "rating            0\n",
            "profit_margin     0\n",
            "total_sales       0\n",
            "profit            0\n",
            "dtype: int64\n",
            "Summary stats:\n",
            "          invoice_id   unit_price     quantity       rating  profit_margin  \\\n",
            "count   9969.000000  9969.000000  9969.000000  9969.000000    9969.000000   \n",
            "mean    5010.116561    50.622142     2.355602     5.828839       0.393744   \n",
            "std     2886.217349    21.203766     1.605455     1.763723       0.090659   \n",
            "min        1.000000    10.080000     1.000000     3.000000       0.180000   \n",
            "25%     2524.000000    32.000000     1.000000     4.000000       0.330000   \n",
            "50%     5016.000000    51.000000     2.000000     6.000000       0.330000   \n",
            "75%     7508.000000    69.000000     3.000000     7.000000       0.480000   \n",
            "max    10000.000000    99.960000    10.000000    10.000000       0.570000   \n",
            "\n",
            "       total_sales       profit  \n",
            "count  9969.000000  9969.000000  \n",
            "mean    121.348819    47.762005  \n",
            "std     112.678040    47.179160  \n",
            "min      10.170000     2.700000  \n",
            "25%      54.000000    20.460000  \n",
            "50%      88.000000    34.650000  \n",
            "75%     156.000000    60.480000  \n",
            "max     993.000000   507.716100  \n"
          ]
        }
      ]
    },
    {
      "cell_type": "code",
      "source": [
        "df.to_csv(\"cleaned_walmart_data.csv\", index=False)\n",
        "from google.colab import files\n",
        "files.download(\"cleaned_walmart_data.csv\")"
      ],
      "metadata": {
        "id": "3WmFyHLu1w6L"
      },
      "execution_count": null,
      "outputs": []
    }
  ]
}