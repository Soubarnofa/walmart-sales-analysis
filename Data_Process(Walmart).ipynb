{
  "nbformat": 4,
  "nbformat_minor": 0,
  "metadata": {
    "colab": {
      "provenance": []
    },
    "kernelspec": {
      "name": "python3",
      "display_name": "Python 3"
    },
    "language_info": {
      "name": "python"
    }
  },
  "cells": [
    {
      "cell_type": "code",
      "execution_count": null,
      "metadata": {
        "colab": {
          "base_uri": "https://localhost:8080/",
          "height": 73
        },
        "id": "fgzIwQ7TfYUW",
        "outputId": "a18d731d-3f36-4481-c8a6-8daca90119b7"
      },
      "outputs": [
        {
          "output_type": "display_data",
          "data": {
            "text/plain": [
              "<IPython.core.display.HTML object>"
            ],
            "text/html": [
              "\n",
              "     <input type=\"file\" id=\"files-113698d1-07d6-4091-ab79-91dbfbe167c0\" name=\"files[]\" multiple disabled\n",
              "        style=\"border:none\" />\n",
              "     <output id=\"result-113698d1-07d6-4091-ab79-91dbfbe167c0\">\n",
              "      Upload widget is only available when the cell has been executed in the\n",
              "      current browser session. Please rerun this cell to enable.\n",
              "      </output>\n",
              "      <script>// Copyright 2017 Google LLC\n",
              "//\n",
              "// Licensed under the Apache License, Version 2.0 (the \"License\");\n",
              "// you may not use this file except in compliance with the License.\n",
              "// You may obtain a copy of the License at\n",
              "//\n",
              "//      http://www.apache.org/licenses/LICENSE-2.0\n",
              "//\n",
              "// Unless required by applicable law or agreed to in writing, software\n",
              "// distributed under the License is distributed on an \"AS IS\" BASIS,\n",
              "// WITHOUT WARRANTIES OR CONDITIONS OF ANY KIND, either express or implied.\n",
              "// See the License for the specific language governing permissions and\n",
              "// limitations under the License.\n",
              "\n",
              "/**\n",
              " * @fileoverview Helpers for google.colab Python module.\n",
              " */\n",
              "(function(scope) {\n",
              "function span(text, styleAttributes = {}) {\n",
              "  const element = document.createElement('span');\n",
              "  element.textContent = text;\n",
              "  for (const key of Object.keys(styleAttributes)) {\n",
              "    element.style[key] = styleAttributes[key];\n",
              "  }\n",
              "  return element;\n",
              "}\n",
              "\n",
              "// Max number of bytes which will be uploaded at a time.\n",
              "const MAX_PAYLOAD_SIZE = 100 * 1024;\n",
              "\n",
              "function _uploadFiles(inputId, outputId) {\n",
              "  const steps = uploadFilesStep(inputId, outputId);\n",
              "  const outputElement = document.getElementById(outputId);\n",
              "  // Cache steps on the outputElement to make it available for the next call\n",
              "  // to uploadFilesContinue from Python.\n",
              "  outputElement.steps = steps;\n",
              "\n",
              "  return _uploadFilesContinue(outputId);\n",
              "}\n",
              "\n",
              "// This is roughly an async generator (not supported in the browser yet),\n",
              "// where there are multiple asynchronous steps and the Python side is going\n",
              "// to poll for completion of each step.\n",
              "// This uses a Promise to block the python side on completion of each step,\n",
              "// then passes the result of the previous step as the input to the next step.\n",
              "function _uploadFilesContinue(outputId) {\n",
              "  const outputElement = document.getElementById(outputId);\n",
              "  const steps = outputElement.steps;\n",
              "\n",
              "  const next = steps.next(outputElement.lastPromiseValue);\n",
              "  return Promise.resolve(next.value.promise).then((value) => {\n",
              "    // Cache the last promise value to make it available to the next\n",
              "    // step of the generator.\n",
              "    outputElement.lastPromiseValue = value;\n",
              "    return next.value.response;\n",
              "  });\n",
              "}\n",
              "\n",
              "/**\n",
              " * Generator function which is called between each async step of the upload\n",
              " * process.\n",
              " * @param {string} inputId Element ID of the input file picker element.\n",
              " * @param {string} outputId Element ID of the output display.\n",
              " * @return {!Iterable<!Object>} Iterable of next steps.\n",
              " */\n",
              "function* uploadFilesStep(inputId, outputId) {\n",
              "  const inputElement = document.getElementById(inputId);\n",
              "  inputElement.disabled = false;\n",
              "\n",
              "  const outputElement = document.getElementById(outputId);\n",
              "  outputElement.innerHTML = '';\n",
              "\n",
              "  const pickedPromise = new Promise((resolve) => {\n",
              "    inputElement.addEventListener('change', (e) => {\n",
              "      resolve(e.target.files);\n",
              "    });\n",
              "  });\n",
              "\n",
              "  const cancel = document.createElement('button');\n",
              "  inputElement.parentElement.appendChild(cancel);\n",
              "  cancel.textContent = 'Cancel upload';\n",
              "  const cancelPromise = new Promise((resolve) => {\n",
              "    cancel.onclick = () => {\n",
              "      resolve(null);\n",
              "    };\n",
              "  });\n",
              "\n",
              "  // Wait for the user to pick the files.\n",
              "  const files = yield {\n",
              "    promise: Promise.race([pickedPromise, cancelPromise]),\n",
              "    response: {\n",
              "      action: 'starting',\n",
              "    }\n",
              "  };\n",
              "\n",
              "  cancel.remove();\n",
              "\n",
              "  // Disable the input element since further picks are not allowed.\n",
              "  inputElement.disabled = true;\n",
              "\n",
              "  if (!files) {\n",
              "    return {\n",
              "      response: {\n",
              "        action: 'complete',\n",
              "      }\n",
              "    };\n",
              "  }\n",
              "\n",
              "  for (const file of files) {\n",
              "    const li = document.createElement('li');\n",
              "    li.append(span(file.name, {fontWeight: 'bold'}));\n",
              "    li.append(span(\n",
              "        `(${file.type || 'n/a'}) - ${file.size} bytes, ` +\n",
              "        `last modified: ${\n",
              "            file.lastModifiedDate ? file.lastModifiedDate.toLocaleDateString() :\n",
              "                                    'n/a'} - `));\n",
              "    const percent = span('0% done');\n",
              "    li.appendChild(percent);\n",
              "\n",
              "    outputElement.appendChild(li);\n",
              "\n",
              "    const fileDataPromise = new Promise((resolve) => {\n",
              "      const reader = new FileReader();\n",
              "      reader.onload = (e) => {\n",
              "        resolve(e.target.result);\n",
              "      };\n",
              "      reader.readAsArrayBuffer(file);\n",
              "    });\n",
              "    // Wait for the data to be ready.\n",
              "    let fileData = yield {\n",
              "      promise: fileDataPromise,\n",
              "      response: {\n",
              "        action: 'continue',\n",
              "      }\n",
              "    };\n",
              "\n",
              "    // Use a chunked sending to avoid message size limits. See b/62115660.\n",
              "    let position = 0;\n",
              "    do {\n",
              "      const length = Math.min(fileData.byteLength - position, MAX_PAYLOAD_SIZE);\n",
              "      const chunk = new Uint8Array(fileData, position, length);\n",
              "      position += length;\n",
              "\n",
              "      const base64 = btoa(String.fromCharCode.apply(null, chunk));\n",
              "      yield {\n",
              "        response: {\n",
              "          action: 'append',\n",
              "          file: file.name,\n",
              "          data: base64,\n",
              "        },\n",
              "      };\n",
              "\n",
              "      let percentDone = fileData.byteLength === 0 ?\n",
              "          100 :\n",
              "          Math.round((position / fileData.byteLength) * 100);\n",
              "      percent.textContent = `${percentDone}% done`;\n",
              "\n",
              "    } while (position < fileData.byteLength);\n",
              "  }\n",
              "\n",
              "  // All done.\n",
              "  yield {\n",
              "    response: {\n",
              "      action: 'complete',\n",
              "    }\n",
              "  };\n",
              "}\n",
              "\n",
              "scope.google = scope.google || {};\n",
              "scope.google.colab = scope.google.colab || {};\n",
              "scope.google.colab._files = {\n",
              "  _uploadFiles,\n",
              "  _uploadFilesContinue,\n",
              "};\n",
              "})(self);\n",
              "</script> "
            ]
          },
          "metadata": {}
        },
        {
          "output_type": "stream",
          "name": "stdout",
          "text": [
            "Saving Walmart.csv to Walmart.csv\n"
          ]
        }
      ],
      "source": [
        "from google.colab import files\n",
        "uploaded = files.upload()"
      ]
    },
    {
      "cell_type": "code",
      "source": [
        "import pandas as pd\n",
        "\n",
        "# Replace with your uploaded filename\n",
        "df = pd.read_csv(\"Walmart.csv\", encoding='ISO-8859-1')\n",
        "df.head()"
      ],
      "metadata": {
        "id": "8MdTqjDMgus6",
        "outputId": "3845d9ed-a8bb-49b5-8e0c-e56773cf017e",
        "colab": {
          "base_uri": "https://localhost:8080/",
          "height": 206
        }
      },
      "execution_count": 33,
      "outputs": [
        {
          "output_type": "execute_result",
          "data": {
            "text/plain": [
              "   invoice_id   Branch         City                category unit_price  \\\n",
              "0           1  WALM003  San Antonio       Health and beauty     $74.69   \n",
              "1           2  WALM048    Harlingen  Electronic accessories     $15.28   \n",
              "2           3  WALM067  Haltom City      Home and lifestyle     $46.33   \n",
              "3           4  WALM064      Bedford       Health and beauty     $58.22   \n",
              "4           5  WALM013       Irving       Sports and travel     $86.31   \n",
              "\n",
              "   quantity        date      time payment_method  rating  profit_margin  \n",
              "0       7.0  05-01-2019  13:08:00        Ewallet     9.1           0.48  \n",
              "1       5.0  08-03-2019  10:29:00           Cash     9.6           0.48  \n",
              "2       7.0  03-03-2019  13:23:00    Credit card     7.4           0.33  \n",
              "3       8.0  27-01-2019  20:33:00        Ewallet     8.4           0.33  \n",
              "4       7.0  08-02-2019  10:37:00        Ewallet     5.3           0.48  "
            ],
            "text/html": [
              "\n",
              "  <div id=\"df-02207d2f-7104-469d-8a63-839dfa1cfad9\" class=\"colab-df-container\">\n",
              "    <div>\n",
              "<style scoped>\n",
              "    .dataframe tbody tr th:only-of-type {\n",
              "        vertical-align: middle;\n",
              "    }\n",
              "\n",
              "    .dataframe tbody tr th {\n",
              "        vertical-align: top;\n",
              "    }\n",
              "\n",
              "    .dataframe thead th {\n",
              "        text-align: right;\n",
              "    }\n",
              "</style>\n",
              "<table border=\"1\" class=\"dataframe\">\n",
              "  <thead>\n",
              "    <tr style=\"text-align: right;\">\n",
              "      <th></th>\n",
              "      <th>invoice_id</th>\n",
              "      <th>Branch</th>\n",
              "      <th>City</th>\n",
              "      <th>category</th>\n",
              "      <th>unit_price</th>\n",
              "      <th>quantity</th>\n",
              "      <th>date</th>\n",
              "      <th>time</th>\n",
              "      <th>payment_method</th>\n",
              "      <th>rating</th>\n",
              "      <th>profit_margin</th>\n",
              "    </tr>\n",
              "  </thead>\n",
              "  <tbody>\n",
              "    <tr>\n",
              "      <th>0</th>\n",
              "      <td>1</td>\n",
              "      <td>WALM003</td>\n",
              "      <td>San Antonio</td>\n",
              "      <td>Health and beauty</td>\n",
              "      <td>$74.69</td>\n",
              "      <td>7.0</td>\n",
              "      <td>05-01-2019</td>\n",
              "      <td>13:08:00</td>\n",
              "      <td>Ewallet</td>\n",
              "      <td>9.1</td>\n",
              "      <td>0.48</td>\n",
              "    </tr>\n",
              "    <tr>\n",
              "      <th>1</th>\n",
              "      <td>2</td>\n",
              "      <td>WALM048</td>\n",
              "      <td>Harlingen</td>\n",
              "      <td>Electronic accessories</td>\n",
              "      <td>$15.28</td>\n",
              "      <td>5.0</td>\n",
              "      <td>08-03-2019</td>\n",
              "      <td>10:29:00</td>\n",
              "      <td>Cash</td>\n",
              "      <td>9.6</td>\n",
              "      <td>0.48</td>\n",
              "    </tr>\n",
              "    <tr>\n",
              "      <th>2</th>\n",
              "      <td>3</td>\n",
              "      <td>WALM067</td>\n",
              "      <td>Haltom City</td>\n",
              "      <td>Home and lifestyle</td>\n",
              "      <td>$46.33</td>\n",
              "      <td>7.0</td>\n",
              "      <td>03-03-2019</td>\n",
              "      <td>13:23:00</td>\n",
              "      <td>Credit card</td>\n",
              "      <td>7.4</td>\n",
              "      <td>0.33</td>\n",
              "    </tr>\n",
              "    <tr>\n",
              "      <th>3</th>\n",
              "      <td>4</td>\n",
              "      <td>WALM064</td>\n",
              "      <td>Bedford</td>\n",
              "      <td>Health and beauty</td>\n",
              "      <td>$58.22</td>\n",
              "      <td>8.0</td>\n",
              "      <td>27-01-2019</td>\n",
              "      <td>20:33:00</td>\n",
              "      <td>Ewallet</td>\n",
              "      <td>8.4</td>\n",
              "      <td>0.33</td>\n",
              "    </tr>\n",
              "    <tr>\n",
              "      <th>4</th>\n",
              "      <td>5</td>\n",
              "      <td>WALM013</td>\n",
              "      <td>Irving</td>\n",
              "      <td>Sports and travel</td>\n",
              "      <td>$86.31</td>\n",
              "      <td>7.0</td>\n",
              "      <td>08-02-2019</td>\n",
              "      <td>10:37:00</td>\n",
              "      <td>Ewallet</td>\n",
              "      <td>5.3</td>\n",
              "      <td>0.48</td>\n",
              "    </tr>\n",
              "  </tbody>\n",
              "</table>\n",
              "</div>\n",
              "    <div class=\"colab-df-buttons\">\n",
              "\n",
              "  <div class=\"colab-df-container\">\n",
              "    <button class=\"colab-df-convert\" onclick=\"convertToInteractive('df-02207d2f-7104-469d-8a63-839dfa1cfad9')\"\n",
              "            title=\"Convert this dataframe to an interactive table.\"\n",
              "            style=\"display:none;\">\n",
              "\n",
              "  <svg xmlns=\"http://www.w3.org/2000/svg\" height=\"24px\" viewBox=\"0 -960 960 960\">\n",
              "    <path d=\"M120-120v-720h720v720H120Zm60-500h600v-160H180v160Zm220 220h160v-160H400v160Zm0 220h160v-160H400v160ZM180-400h160v-160H180v160Zm440 0h160v-160H620v160ZM180-180h160v-160H180v160Zm440 0h160v-160H620v160Z\"/>\n",
              "  </svg>\n",
              "    </button>\n",
              "\n",
              "  <style>\n",
              "    .colab-df-container {\n",
              "      display:flex;\n",
              "      gap: 12px;\n",
              "    }\n",
              "\n",
              "    .colab-df-convert {\n",
              "      background-color: #E8F0FE;\n",
              "      border: none;\n",
              "      border-radius: 50%;\n",
              "      cursor: pointer;\n",
              "      display: none;\n",
              "      fill: #1967D2;\n",
              "      height: 32px;\n",
              "      padding: 0 0 0 0;\n",
              "      width: 32px;\n",
              "    }\n",
              "\n",
              "    .colab-df-convert:hover {\n",
              "      background-color: #E2EBFA;\n",
              "      box-shadow: 0px 1px 2px rgba(60, 64, 67, 0.3), 0px 1px 3px 1px rgba(60, 64, 67, 0.15);\n",
              "      fill: #174EA6;\n",
              "    }\n",
              "\n",
              "    .colab-df-buttons div {\n",
              "      margin-bottom: 4px;\n",
              "    }\n",
              "\n",
              "    [theme=dark] .colab-df-convert {\n",
              "      background-color: #3B4455;\n",
              "      fill: #D2E3FC;\n",
              "    }\n",
              "\n",
              "    [theme=dark] .colab-df-convert:hover {\n",
              "      background-color: #434B5C;\n",
              "      box-shadow: 0px 1px 3px 1px rgba(0, 0, 0, 0.15);\n",
              "      filter: drop-shadow(0px 1px 2px rgba(0, 0, 0, 0.3));\n",
              "      fill: #FFFFFF;\n",
              "    }\n",
              "  </style>\n",
              "\n",
              "    <script>\n",
              "      const buttonEl =\n",
              "        document.querySelector('#df-02207d2f-7104-469d-8a63-839dfa1cfad9 button.colab-df-convert');\n",
              "      buttonEl.style.display =\n",
              "        google.colab.kernel.accessAllowed ? 'block' : 'none';\n",
              "\n",
              "      async function convertToInteractive(key) {\n",
              "        const element = document.querySelector('#df-02207d2f-7104-469d-8a63-839dfa1cfad9');\n",
              "        const dataTable =\n",
              "          await google.colab.kernel.invokeFunction('convertToInteractive',\n",
              "                                                    [key], {});\n",
              "        if (!dataTable) return;\n",
              "\n",
              "        const docLinkHtml = 'Like what you see? Visit the ' +\n",
              "          '<a target=\"_blank\" href=https://colab.research.google.com/notebooks/data_table.ipynb>data table notebook</a>'\n",
              "          + ' to learn more about interactive tables.';\n",
              "        element.innerHTML = '';\n",
              "        dataTable['output_type'] = 'display_data';\n",
              "        await google.colab.output.renderOutput(dataTable, element);\n",
              "        const docLink = document.createElement('div');\n",
              "        docLink.innerHTML = docLinkHtml;\n",
              "        element.appendChild(docLink);\n",
              "      }\n",
              "    </script>\n",
              "  </div>\n",
              "\n",
              "\n",
              "    <div id=\"df-c5180b2a-43c5-4b09-91b0-664e43f2fc4d\">\n",
              "      <button class=\"colab-df-quickchart\" onclick=\"quickchart('df-c5180b2a-43c5-4b09-91b0-664e43f2fc4d')\"\n",
              "                title=\"Suggest charts\"\n",
              "                style=\"display:none;\">\n",
              "\n",
              "<svg xmlns=\"http://www.w3.org/2000/svg\" height=\"24px\"viewBox=\"0 0 24 24\"\n",
              "     width=\"24px\">\n",
              "    <g>\n",
              "        <path d=\"M19 3H5c-1.1 0-2 .9-2 2v14c0 1.1.9 2 2 2h14c1.1 0 2-.9 2-2V5c0-1.1-.9-2-2-2zM9 17H7v-7h2v7zm4 0h-2V7h2v10zm4 0h-2v-4h2v4z\"/>\n",
              "    </g>\n",
              "</svg>\n",
              "      </button>\n",
              "\n",
              "<style>\n",
              "  .colab-df-quickchart {\n",
              "      --bg-color: #E8F0FE;\n",
              "      --fill-color: #1967D2;\n",
              "      --hover-bg-color: #E2EBFA;\n",
              "      --hover-fill-color: #174EA6;\n",
              "      --disabled-fill-color: #AAA;\n",
              "      --disabled-bg-color: #DDD;\n",
              "  }\n",
              "\n",
              "  [theme=dark] .colab-df-quickchart {\n",
              "      --bg-color: #3B4455;\n",
              "      --fill-color: #D2E3FC;\n",
              "      --hover-bg-color: #434B5C;\n",
              "      --hover-fill-color: #FFFFFF;\n",
              "      --disabled-bg-color: #3B4455;\n",
              "      --disabled-fill-color: #666;\n",
              "  }\n",
              "\n",
              "  .colab-df-quickchart {\n",
              "    background-color: var(--bg-color);\n",
              "    border: none;\n",
              "    border-radius: 50%;\n",
              "    cursor: pointer;\n",
              "    display: none;\n",
              "    fill: var(--fill-color);\n",
              "    height: 32px;\n",
              "    padding: 0;\n",
              "    width: 32px;\n",
              "  }\n",
              "\n",
              "  .colab-df-quickchart:hover {\n",
              "    background-color: var(--hover-bg-color);\n",
              "    box-shadow: 0 1px 2px rgba(60, 64, 67, 0.3), 0 1px 3px 1px rgba(60, 64, 67, 0.15);\n",
              "    fill: var(--button-hover-fill-color);\n",
              "  }\n",
              "\n",
              "  .colab-df-quickchart-complete:disabled,\n",
              "  .colab-df-quickchart-complete:disabled:hover {\n",
              "    background-color: var(--disabled-bg-color);\n",
              "    fill: var(--disabled-fill-color);\n",
              "    box-shadow: none;\n",
              "  }\n",
              "\n",
              "  .colab-df-spinner {\n",
              "    border: 2px solid var(--fill-color);\n",
              "    border-color: transparent;\n",
              "    border-bottom-color: var(--fill-color);\n",
              "    animation:\n",
              "      spin 1s steps(1) infinite;\n",
              "  }\n",
              "\n",
              "  @keyframes spin {\n",
              "    0% {\n",
              "      border-color: transparent;\n",
              "      border-bottom-color: var(--fill-color);\n",
              "      border-left-color: var(--fill-color);\n",
              "    }\n",
              "    20% {\n",
              "      border-color: transparent;\n",
              "      border-left-color: var(--fill-color);\n",
              "      border-top-color: var(--fill-color);\n",
              "    }\n",
              "    30% {\n",
              "      border-color: transparent;\n",
              "      border-left-color: var(--fill-color);\n",
              "      border-top-color: var(--fill-color);\n",
              "      border-right-color: var(--fill-color);\n",
              "    }\n",
              "    40% {\n",
              "      border-color: transparent;\n",
              "      border-right-color: var(--fill-color);\n",
              "      border-top-color: var(--fill-color);\n",
              "    }\n",
              "    60% {\n",
              "      border-color: transparent;\n",
              "      border-right-color: var(--fill-color);\n",
              "    }\n",
              "    80% {\n",
              "      border-color: transparent;\n",
              "      border-right-color: var(--fill-color);\n",
              "      border-bottom-color: var(--fill-color);\n",
              "    }\n",
              "    90% {\n",
              "      border-color: transparent;\n",
              "      border-bottom-color: var(--fill-color);\n",
              "    }\n",
              "  }\n",
              "</style>\n",
              "\n",
              "      <script>\n",
              "        async function quickchart(key) {\n",
              "          const quickchartButtonEl =\n",
              "            document.querySelector('#' + key + ' button');\n",
              "          quickchartButtonEl.disabled = true;  // To prevent multiple clicks.\n",
              "          quickchartButtonEl.classList.add('colab-df-spinner');\n",
              "          try {\n",
              "            const charts = await google.colab.kernel.invokeFunction(\n",
              "                'suggestCharts', [key], {});\n",
              "          } catch (error) {\n",
              "            console.error('Error during call to suggestCharts:', error);\n",
              "          }\n",
              "          quickchartButtonEl.classList.remove('colab-df-spinner');\n",
              "          quickchartButtonEl.classList.add('colab-df-quickchart-complete');\n",
              "        }\n",
              "        (() => {\n",
              "          let quickchartButtonEl =\n",
              "            document.querySelector('#df-c5180b2a-43c5-4b09-91b0-664e43f2fc4d button');\n",
              "          quickchartButtonEl.style.display =\n",
              "            google.colab.kernel.accessAllowed ? 'block' : 'none';\n",
              "        })();\n",
              "      </script>\n",
              "    </div>\n",
              "\n",
              "    </div>\n",
              "  </div>\n"
            ],
            "application/vnd.google.colaboratory.intrinsic+json": {
              "type": "dataframe",
              "variable_name": "df",
              "summary": "{\n  \"name\": \"df\",\n  \"rows\": 10051,\n  \"fields\": [\n    {\n      \"column\": \"invoice_id\",\n      \"properties\": {\n        \"dtype\": \"number\",\n        \"std\": 2901,\n        \"min\": 1,\n        \"max\": 10000,\n        \"num_unique_values\": 10000,\n        \"samples\": [\n          6253,\n          4685,\n          1732\n        ],\n        \"semantic_type\": \"\",\n        \"description\": \"\"\n      }\n    },\n    {\n      \"column\": \"Branch\",\n      \"properties\": {\n        \"dtype\": \"category\",\n        \"num_unique_values\": 100,\n        \"samples\": [\n          \"WALM039\",\n          \"WALM094\",\n          \"WALM016\"\n        ],\n        \"semantic_type\": \"\",\n        \"description\": \"\"\n      }\n    },\n    {\n      \"column\": \"City\",\n      \"properties\": {\n        \"dtype\": \"category\",\n        \"num_unique_values\": 98,\n        \"samples\": [\n          \"Amarillo\",\n          \"Grand Prairie\",\n          \"Tyler\"\n        ],\n        \"semantic_type\": \"\",\n        \"description\": \"\"\n      }\n    },\n    {\n      \"column\": \"category\",\n      \"properties\": {\n        \"dtype\": \"category\",\n        \"num_unique_values\": 6,\n        \"samples\": [\n          \"Health and beauty\",\n          \"Electronic accessories\",\n          \"Fashion accessories\"\n        ],\n        \"semantic_type\": \"\",\n        \"description\": \"\"\n      }\n    },\n    {\n      \"column\": \"unit_price\",\n      \"properties\": {\n        \"dtype\": \"category\",\n        \"num_unique_values\": 1008,\n        \"samples\": [\n          \"$40.35\",\n          \"$75.66\",\n          \"$68.98\"\n        ],\n        \"semantic_type\": \"\",\n        \"description\": \"\"\n      }\n    },\n    {\n      \"column\": \"quantity\",\n      \"properties\": {\n        \"dtype\": \"number\",\n        \"std\": 1.6026579798915925,\n        \"min\": 1.0,\n        \"max\": 10.0,\n        \"num_unique_values\": 10,\n        \"samples\": [\n          1.0,\n          5.0,\n          2.0\n        ],\n        \"semantic_type\": \"\",\n        \"description\": \"\"\n      }\n    },\n    {\n      \"column\": \"date\",\n      \"properties\": {\n        \"dtype\": \"category\",\n        \"num_unique_values\": 1460,\n        \"samples\": [\n          \"01-05-2022\",\n          \"08-11-2022\",\n          \"27-03-2023\"\n        ],\n        \"semantic_type\": \"\",\n        \"description\": \"\"\n      }\n    },\n    {\n      \"column\": \"time\",\n      \"properties\": {\n        \"dtype\": \"object\",\n        \"num_unique_values\": 1001,\n        \"samples\": [\n          \"17:25:00\",\n          \"16:25:00\",\n          \"18:39:00\"\n        ],\n        \"semantic_type\": \"\",\n        \"description\": \"\"\n      }\n    },\n    {\n      \"column\": \"payment_method\",\n      \"properties\": {\n        \"dtype\": \"category\",\n        \"num_unique_values\": 3,\n        \"samples\": [\n          \"Ewallet\",\n          \"Cash\",\n          \"Credit card\"\n        ],\n        \"semantic_type\": \"\",\n        \"description\": \"\"\n      }\n    },\n    {\n      \"column\": \"rating\",\n      \"properties\": {\n        \"dtype\": \"number\",\n        \"std\": 1.763990628132888,\n        \"min\": 3.0,\n        \"max\": 10.0,\n        \"num_unique_values\": 62,\n        \"samples\": [\n          4.2,\n          6.2,\n          9.1\n        ],\n        \"semantic_type\": \"\",\n        \"description\": \"\"\n      }\n    },\n    {\n      \"column\": \"profit_margin\",\n      \"properties\": {\n        \"dtype\": \"number\",\n        \"std\": 0.09066892130169273,\n        \"min\": 0.18,\n        \"max\": 0.57,\n        \"num_unique_values\": 6,\n        \"samples\": [\n          0.48,\n          0.33,\n          0.21\n        ],\n        \"semantic_type\": \"\",\n        \"description\": \"\"\n      }\n    }\n  ]\n}"
            }
          },
          "metadata": {},
          "execution_count": 33
        }
      ]
    },
    {
      "cell_type": "code",
      "source": [
        "# Check for duplicates\n",
        "print(\"Duplicate Invoice IDs:\", df['invoice_id'].duplicated().sum())\n",
        "\n",
        "# If duplicates exist, drop them\n",
        "df.drop_duplicates(subset='invoice_id', inplace=True)"
      ],
      "metadata": {
        "id": "XCLENLFQhAzT",
        "colab": {
          "base_uri": "https://localhost:8080/"
        },
        "outputId": "abeb9336-6d5b-405f-a7f3-62f23915bfb5"
      },
      "execution_count": 34,
      "outputs": [
        {
          "output_type": "stream",
          "name": "stdout",
          "text": [
            "Duplicate Invoice IDs: 51\n"
          ]
        }
      ]
    },
    {
      "cell_type": "code",
      "source": [
        "print(\"Unique Branches:\", df['Branch'].unique())\n",
        "df['Branch'] = df['Branch'].str.strip()"
      ],
      "metadata": {
        "id": "VFzsVCSJk2tO",
        "colab": {
          "base_uri": "https://localhost:8080/"
        },
        "outputId": "6fbf1464-bc21-45a7-9efb-3f7c9c3670e1"
      },
      "execution_count": 35,
      "outputs": [
        {
          "output_type": "stream",
          "name": "stdout",
          "text": [
            "Unique Branches: ['WALM003' 'WALM048' 'WALM067' 'WALM064' 'WALM013' 'WALM026' 'WALM088'\n",
            " 'WALM100' 'WALM066' 'WALM065' 'WALM035' 'WALM027' 'WALM031' 'WALM008'\n",
            " 'WALM029' 'WALM061' 'WALM053' 'WALM044' 'WALM083' 'WALM023' 'WALM001'\n",
            " 'WALM072' 'WALM046' 'WALM012' 'WALM075' 'WALM076' 'WALM098' 'WALM021'\n",
            " 'WALM096' 'WALM022' 'WALM095' 'WALM041' 'WALM070' 'WALM030' 'WALM033'\n",
            " 'WALM079' 'WALM042' 'WALM036' 'WALM056' 'WALM058' 'WALM015' 'WALM063'\n",
            " 'WALM089' 'WALM093' 'WALM045' 'WALM005' 'WALM078' 'WALM037' 'WALM069'\n",
            " 'WALM087' 'WALM020' 'WALM007' 'WALM017' 'WALM094' 'WALM071' 'WALM090'\n",
            " 'WALM097' 'WALM043' 'WALM011' 'WALM049' 'WALM040' 'WALM034' 'WALM014'\n",
            " 'WALM004' 'WALM057' 'WALM055' 'WALM038' 'WALM025' 'WALM024' 'WALM085'\n",
            " 'WALM016' 'WALM018' 'WALM068' 'WALM002' 'WALM062' 'WALM052' 'WALM047'\n",
            " 'WALM054' 'WALM099' 'WALM074' 'WALM028' 'WALM019' 'WALM084' 'WALM039'\n",
            " 'WALM060' 'WALM073' 'WALM059' 'WALM086' 'WALM050' 'WALM081' 'WALM009'\n",
            " 'WALM077' 'WALM091' 'WALM051' 'WALM010' 'WALM032' 'WALM082' 'WALM006'\n",
            " 'WALM092' 'WALM080']\n"
          ]
        }
      ]
    },
    {
      "cell_type": "code",
      "source": [
        "print(\"Unique Cities:\", df['City'].unique())\n",
        "df['City'] = df['City'].str.strip()"
      ],
      "metadata": {
        "id": "TlUOoz1-k8hE",
        "colab": {
          "base_uri": "https://localhost:8080/"
        },
        "outputId": "13a57df1-bf6f-44fd-faf2-8ba1de643941"
      },
      "execution_count": 36,
      "outputs": [
        {
          "output_type": "stream",
          "name": "stdout",
          "text": [
            "Unique Cities: ['San Antonio' 'Harlingen' 'Haltom City' 'Bedford' 'Irving' 'Denton'\n",
            " 'Cleburne' 'Canyon' 'Grapevine' 'Texas City' 'San Angelo' 'Abilene'\n",
            " 'Lewisville' 'Corpus Christi' 'Round Rock' 'Cedar Park' 'Conroe' 'Pharr'\n",
            " 'Farmers Branch' 'Midland' 'Houston' 'Lancaster' 'Temple' 'Garland'\n",
            " 'San Marcos' 'Huntsville' 'Mineral Wells' 'McAllen' 'Eagle Pass'\n",
            " 'Mesquite' 'Big Spring' 'Mission' 'Hurst' 'Richardson' 'Pearland'\n",
            " 'La Porte' 'Bryan' 'Allen' 'Rowlett' 'Port Arthur' 'Grand Prairie'\n",
            " 'Georgetown' 'Southlake' 'Angleton' 'Missouri City' 'Fort Worth'\n",
            " 'Del Rio' 'League City' 'Rockwall' 'Waxahachie' 'Killeen' 'Arlington'\n",
            " 'McKinney' 'Alamo' 'Lufkin' 'Brownwood' 'Alice' 'Baytown' 'Lubbock'\n",
            " 'North Richland Hills' 'Edinburg' 'College Station' 'Amarillo' 'Austin'\n",
            " 'Euless' 'Sugar Land' 'Waco' 'Carrollton' 'Kerrville' 'Brownsville'\n",
            " 'Frisco' 'Burleson' 'Dallas' 'Galveston' 'Mansfield' 'Flower Mound'\n",
            " 'Sherman' 'Weatherford' 'Weslaco' 'Odessa' 'Pasadena' 'Schertz'\n",
            " 'Longview' 'DeSoto' 'Seguin' 'Pflugerville' 'Rosenberg' 'Victoria'\n",
            " 'Friendswood' 'Plano' 'Coppell' 'Little Elm' 'New Braunfels' 'Laredo'\n",
            " 'Tyler' 'El Paso' 'Lake Jackson' 'Nacogdoches']\n"
          ]
        }
      ]
    },
    {
      "cell_type": "code",
      "source": [
        "# 2. Strip spaces from object columns\n",
        "for col in ['Branch', 'City', 'category', 'payment_method']:\n",
        "    df[col] = df[col].astype(str).str.strip().str.title()\n",
        "\n",
        "# 3. Convert date and time\n",
        "df['date'] = pd.to_datetime(df['date'], errors='coerce')\n",
        "df['time'] = pd.to_datetime(df['time'], errors='coerce').dt.time\n",
        "\n",
        "# Normalize column names\n",
        "df.columns = df.columns.str.strip().str.lower()\n",
        "\n",
        "# Convert to numeric\n",
        "df['unit_price'] = pd.to_numeric(df['unit_price'], errors='coerce')\n",
        "df['quantity'] = pd.to_numeric(df['quantity'], errors='coerce')\n",
        "df['profit_margin'] = pd.to_numeric(df['profit_margin'], errors='coerce')\n",
        "\n",
        "# Remove invalid rows\n",
        "df = df[(df['quantity'] > 0) & (df['unit_price'] > 0)]\n",
        "\n",
        "# Fill missing profit margins\n",
        "df['profit_margin'] = df['profit_margin'].fillna(0)\n",
        "\n",
        "\n",
        "# 5. Filter rating between 1 and 10\n",
        "df = df[(df['rating'] >= 1) & (df['rating'] <= 10)]\n",
        "\n",
        "# Drop rows with any remaining nulls\n",
        "df.dropna(inplace=True)\n",
        "\n",
        "# Reset index\n",
        "df.reset_index(drop=True, inplace=True)\n",
        "\n",
        "print(\" Data cleaned. Shape:\", df.shape)\n"
      ],
      "metadata": {
        "id": "3U2sk0RMlAQg",
        "colab": {
          "base_uri": "https://localhost:8080/"
        },
        "outputId": "c10c9e53-4a9c-4952-bef3-0a52df252cf2"
      },
      "execution_count": 37,
      "outputs": [
        {
          "output_type": "stream",
          "name": "stdout",
          "text": [
            " Data cleaned. Shape: (0, 11)\n"
          ]
        },
        {
          "output_type": "stream",
          "name": "stderr",
          "text": [
            "/tmp/ipython-input-2231854828.py:7: UserWarning: Could not infer format, so each element will be parsed individually, falling back to `dateutil`. To ensure parsing is consistent and as-expected, please specify a format.\n",
            "  df['time'] = pd.to_datetime(df['time'], errors='coerce').dt.time\n"
          ]
        }
      ]
    },
    {
      "cell_type": "code",
      "source": [
        " #Datetime Conversion\n",
        " df['date'] = pd.to_datetime(df['date'], errors='coerce')\n",
        "df['time'] = pd.to_datetime(df['time'], format='%H:%M:%S', errors='coerce').dt.time"
      ],
      "metadata": {
        "id": "cGeR-_M3vb2E"
      },
      "execution_count": 38,
      "outputs": []
    },
    {
      "cell_type": "code",
      "source": [
        " #Extract New Features\n",
        " df['day_of_week'] = df['date'].dt.day_name()\n",
        "df['month'] = df['date'].dt.month_name()\n",
        "df['hour'] = pd.to_datetime(df['time'], format='%H:%M:%S', errors='coerce').dt.hour"
      ],
      "metadata": {
        "id": "LmfX45JEvg9D"
      },
      "execution_count": 11,
      "outputs": []
    },
    {
      "cell_type": "code",
      "source": [
        "#Total Sale & Profit Column\n",
        "df['total_sales'] = df['unit_price'] * df['quantity']\n",
        "df['profit'] = df['total_sales'] * df['profit_margin']\n",
        "print(df[['date', 'time', 'day_of_week', 'month', 'hour', 'total_sales', 'profit']].head())"
      ],
      "metadata": {
        "id": "P7VlkTczvoqN",
        "colab": {
          "base_uri": "https://localhost:8080/"
        },
        "outputId": "4131e2ad-942d-446a-a170-f2929ca3825c"
      },
      "execution_count": 12,
      "outputs": [
        {
          "output_type": "stream",
          "name": "stdout",
          "text": [
            "Empty DataFrame\n",
            "Columns: [date, time, day_of_week, month, hour, total_sales, profit]\n",
            "Index: []\n"
          ]
        }
      ]
    },
    {
      "cell_type": "code",
      "source": [
        "print(\"Shape before feature engineering:\", df.shape)\n",
        "print(df.head())\n",
        "print(df['date'].head())\n",
        "print(df['time'].head())"
      ],
      "metadata": {
        "id": "HocD64J-wSU0",
        "colab": {
          "base_uri": "https://localhost:8080/"
        },
        "outputId": "e408fcb3-7f31-4920-9adb-2f784610ab5a"
      },
      "execution_count": 13,
      "outputs": [
        {
          "output_type": "stream",
          "name": "stdout",
          "text": [
            "Shape before feature engineering: (0, 16)\n",
            "Empty DataFrame\n",
            "Columns: [invoice_id, branch, city, category, unit_price, quantity, date, time, payment_method, rating, profit_margin, day_of_week, month, hour, total_sales, profit]\n",
            "Index: []\n",
            "Series([], Name: date, dtype: datetime64[ns])\n",
            "Series([], Name: time, dtype: object)\n"
          ]
        }
      ]
    },
    {
      "cell_type": "code",
      "source": [
        "df['date'] = pd.to_datetime(df['date'], errors='coerce')\n",
        "df['time'] = pd.to_datetime(df['time'].astype(str), errors='coerce').dt.time\n",
        "\n",
        "# Extract features\n",
        "df['day_of_week'] = df['date'].dt.day_name()\n",
        "df['month'] = df['date'].dt.month_name()\n",
        "df['hour'] = pd.to_datetime(df['time'].astype(str), errors='coerce').dt.hour\n",
        "\n",
        "# Total sales and profit\n",
        "df['total_sales'] = df['unit_price'] * df['quantity']\n",
        "df['profit'] = df['total_sales'] * df['profit_margin']\n",
        "\n",
        "# Final check\n",
        "print(df[['date', 'time', 'day_of_week', 'month', 'hour', 'total_sales', 'profit']].head())"
      ],
      "metadata": {
        "id": "yj5PekE9wk0l",
        "colab": {
          "base_uri": "https://localhost:8080/"
        },
        "outputId": "753c8e4d-c98e-4e6c-8fad-fd7442bbd9fc"
      },
      "execution_count": 14,
      "outputs": [
        {
          "output_type": "stream",
          "name": "stdout",
          "text": [
            "Empty DataFrame\n",
            "Columns: [date, time, day_of_week, month, hour, total_sales, profit]\n",
            "Index: []\n"
          ]
        }
      ]
    },
    {
      "cell_type": "code",
      "source": [
        "import pandas as pd\n",
        "\n",
        "# Step 1: Load data\n",
        "df = pd.read_csv('Walmart.csv')\n",
        "print(\"Original shape:\", df.shape)\n",
        "\n",
        "# Step 2: Clean numeric columns\n",
        "df['quantity'] = pd.to_numeric(df['quantity'], errors='coerce')\n",
        "df['unit_price'] = pd.to_numeric(df['unit_price'], errors='coerce')\n",
        "df['profit_margin'] = pd.to_numeric(df['profit_margin'], errors='coerce').fillna(0)\n",
        "\n",
        "# Step 3: Filter out invalid rows\n",
        "df = df[(df['quantity'] > 0) & (df['unit_price'] > 0)]\n",
        "print(\"Shape after filtering quantity/unit_price:\", df.shape)\n",
        "\n",
        "# Step 4: Convert datetime\n",
        "df['date'] = pd.to_datetime(df['date'], errors='coerce')\n",
        "df['time'] = pd.to_datetime(df['time'].astype(str), errors='coerce').dt.time\n",
        "\n",
        "# Step 5: Create new features\n",
        "df['day_of_week'] = df['date'].dt.day_name()\n",
        "df['month'] = df['date'].dt.month_name()\n",
        "df['hour'] = pd.to_datetime(df['time'].astype(str), errors='coerce').dt.hour\n",
        "\n",
        "# Step 6: Total sales and profit\n",
        "df['total_sales'] = df['unit_price'] * df['quantity']\n",
        "df['profit'] = df['total_sales'] * df['profit_margin']\n",
        "\n",
        "# Final check\n",
        "print(df[['date', 'time', 'day_of_week', 'month', 'hour', 'total_sales', 'profit']].head())\n",
        "print(\"Final shape:\", df.shape)\n"
      ],
      "metadata": {
        "id": "iAGFzgzmw3_P",
        "colab": {
          "base_uri": "https://localhost:8080/"
        },
        "outputId": "c24d83af-318d-46ea-fcf3-12c3f383c00d"
      },
      "execution_count": 15,
      "outputs": [
        {
          "output_type": "stream",
          "name": "stdout",
          "text": [
            "Original shape: (10051, 11)\n",
            "Shape after filtering quantity/unit_price: (0, 11)\n",
            "Empty DataFrame\n",
            "Columns: [date, time, day_of_week, month, hour, total_sales, profit]\n",
            "Index: []\n",
            "Final shape: (0, 16)\n"
          ]
        }
      ]
    },
    {
      "cell_type": "code",
      "source": [
        "# Print unique non-numeric values (if any)\n",
        "print(df['quantity'].unique()[:10])\n",
        "print(df['unit_price'].unique()[:10])\n",
        "\n",
        "# Try converting them, but don't filter yet\n",
        "df['quantity'] = pd.to_numeric(df['quantity'], errors='coerce')\n",
        "df['unit_price'] = pd.to_numeric(df['unit_price'], errors='coerce')\n",
        "\n",
        "# Check after conversion\n",
        "print(\"NaNs in quantity:\", df['quantity'].isna().sum())\n",
        "print(\"NaNs in unit_price:\", df['unit_price'].isna().sum())\n",
        "\n",
        "# Now print value ranges\n",
        "print(\"Quantity stats:\\n\", df['quantity'].describe())\n",
        "print(\"Unit Price stats:\\n\", df['unit_price'].describe())"
      ],
      "metadata": {
        "id": "9QiCTD-HxH1x",
        "colab": {
          "base_uri": "https://localhost:8080/"
        },
        "outputId": "2da6988d-c6a4-4ef5-8d4c-39658255e642"
      },
      "execution_count": 16,
      "outputs": [
        {
          "output_type": "stream",
          "name": "stdout",
          "text": [
            "[]\n",
            "[]\n",
            "NaNs in quantity: 0\n",
            "NaNs in unit_price: 0\n",
            "Quantity stats:\n",
            " count    0.0\n",
            "mean     NaN\n",
            "std      NaN\n",
            "min      NaN\n",
            "25%      NaN\n",
            "50%      NaN\n",
            "75%      NaN\n",
            "max      NaN\n",
            "Name: quantity, dtype: float64\n",
            "Unit Price stats:\n",
            " count    0.0\n",
            "mean     NaN\n",
            "std      NaN\n",
            "min      NaN\n",
            "25%      NaN\n",
            "50%      NaN\n",
            "75%      NaN\n",
            "max      NaN\n",
            "Name: unit_price, dtype: float64\n"
          ]
        }
      ]
    },
    {
      "cell_type": "code",
      "source": [
        "# Remove any non-numeric characters (₹, $, commas etc.)\n",
        "df['quantity'] = df['quantity'].astype(str).str.replace(r'[^0-9.]', '', regex=True)\n",
        "df['unit_price'] = df['unit_price'].astype(str).str.replace(r'[^0-9.]', '', regex=True)\n",
        "\n",
        "# Now convert to numeric\n",
        "df['quantity'] = pd.to_numeric(df['quantity'], errors='coerce')\n",
        "df['unit_price'] = pd.to_numeric(df['unit_price'], errors='coerce')\n",
        "\n",
        "# Check again\n",
        "print(df['quantity'].describe())\n",
        "print(df['unit_price'].describe())"
      ],
      "metadata": {
        "id": "9Sd1q8eNxRBt",
        "colab": {
          "base_uri": "https://localhost:8080/"
        },
        "outputId": "a12f6a88-eb75-447b-c29c-790dbc83f8d2"
      },
      "execution_count": 17,
      "outputs": [
        {
          "output_type": "stream",
          "name": "stdout",
          "text": [
            "count    0.0\n",
            "mean     NaN\n",
            "std      NaN\n",
            "min      NaN\n",
            "25%      NaN\n",
            "50%      NaN\n",
            "75%      NaN\n",
            "max      NaN\n",
            "Name: quantity, dtype: float64\n",
            "count    0.0\n",
            "mean     NaN\n",
            "std      NaN\n",
            "min      NaN\n",
            "25%      NaN\n",
            "50%      NaN\n",
            "75%      NaN\n",
            "max      NaN\n",
            "Name: unit_price, dtype: float64\n"
          ]
        }
      ]
    },
    {
      "cell_type": "code",
      "source": [
        "print(df.columns.tolist())"
      ],
      "metadata": {
        "id": "HUBPcC-Kxbrz",
        "colab": {
          "base_uri": "https://localhost:8080/"
        },
        "outputId": "351b1e25-691c-45a2-c80f-6089fdceca8b"
      },
      "execution_count": 18,
      "outputs": [
        {
          "output_type": "stream",
          "name": "stdout",
          "text": [
            "['invoice_id', 'Branch', 'City', 'category', 'unit_price', 'quantity', 'date', 'time', 'payment_method', 'rating', 'profit_margin', 'day_of_week', 'month', 'hour', 'total_sales', 'profit']\n"
          ]
        }
      ]
    },
    {
      "cell_type": "code",
      "source": [
        "df.columns = df.columns.str.strip().str.lower().str.replace(' ', '_')"
      ],
      "metadata": {
        "id": "QQS4qqDexpw7"
      },
      "execution_count": 19,
      "outputs": []
    },
    {
      "cell_type": "code",
      "source": [
        "print(df.columns.tolist())"
      ],
      "metadata": {
        "id": "Qs1Pt6BaxrQO",
        "colab": {
          "base_uri": "https://localhost:8080/"
        },
        "outputId": "1335a332-a5d8-4189-eff8-0518353c3881"
      },
      "execution_count": 20,
      "outputs": [
        {
          "output_type": "stream",
          "name": "stdout",
          "text": [
            "['invoice_id', 'branch', 'city', 'category', 'unit_price', 'quantity', 'date', 'time', 'payment_method', 'rating', 'profit_margin', 'day_of_week', 'month', 'hour', 'total_sales', 'profit']\n"
          ]
        }
      ]
    },
    {
      "cell_type": "code",
      "source": [
        "df['quantity'] = pd.to_numeric(df['quantity'], errors='coerce')\n",
        "df['unit_price'] = pd.to_numeric(df['unit_price'], errors='coerce')\n",
        "df = df.dropna(subset=['quantity', 'unit_price'])"
      ],
      "metadata": {
        "id": "ae7ONtBqx4t3"
      },
      "execution_count": 21,
      "outputs": []
    },
    {
      "cell_type": "code",
      "source": [
        "df = df[(df['quantity'] > 0) & (df['unit_price'] > 0)]"
      ],
      "metadata": {
        "id": "xMbsxKh8x_7g"
      },
      "execution_count": 22,
      "outputs": []
    },
    {
      "cell_type": "code",
      "source": [
        "df['total_sales'] = df['unit_price'] * df['quantity']\n",
        "df['profit'] = df['total_sales'] * df['profit_margin']\n",
        "print(\"Final shape:\", df.shape)\n",
        "print(df[['quantity', 'unit_price', 'total_sales', 'profit']].head())"
      ],
      "metadata": {
        "id": "XoWFtXJfyCjx",
        "colab": {
          "base_uri": "https://localhost:8080/"
        },
        "outputId": "dd1323b5-51c9-4286-eb6b-a0be693910d3"
      },
      "execution_count": 23,
      "outputs": [
        {
          "output_type": "stream",
          "name": "stdout",
          "text": [
            "Final shape: (0, 16)\n",
            "Empty DataFrame\n",
            "Columns: [quantity, unit_price, total_sales, profit]\n",
            "Index: []\n"
          ]
        }
      ]
    },
    {
      "cell_type": "code",
      "source": [
        "import pandas as pd\n",
        "\n",
        "# Convert numeric columns\n",
        "df['quantity'] = pd.to_numeric(df['quantity'], errors='coerce')\n",
        "df['unit_price'] = pd.to_numeric(df['unit_price'], errors='coerce')\n",
        "df['profit_margin'] = pd.to_numeric(df['profit_margin'], errors='coerce')\n",
        "df['rating'] = pd.to_numeric(df['rating'], errors='coerce')\n",
        "\n",
        "# Drop invalid/missing rows\n",
        "df.dropna(subset=['quantity', 'unit_price', 'profit_margin'], inplace=True)\n",
        "\n",
        "# Remove zero/negative values\n",
        "df = df[(df['quantity'] > 0) & (df['unit_price'] > 0)]\n",
        "# Convert date & time\n",
        "df['date'] = pd.to_datetime(df['date'], errors='coerce')\n",
        "df['time'] = pd.to_datetime(df['time'], format='%H:%M:%S', errors='coerce').dt.time\n",
        "\n",
        "# Extract temporal features\n",
        "df['day_of_week'] = df['date'].dt.day_name()\n",
        "df['month'] = df['date'].dt.month_name()\n",
        "df['hour'] = pd.to_datetime(df['time'], format='%H:%M:%S', errors='coerce').apply(lambda x: x.hour if pd.notnull(x) else None)\n",
        "\n",
        "# Calculate revenue and profit\n",
        "df['total_sales'] = df['unit_price'] * df['quantity']\n",
        "df['profit'] = df['total_sales'] * df['profit_margin']\n",
        "print(\"Final dataset shape:\", df.shape)\n",
        "print(df.head(3))"
      ],
      "metadata": {
        "id": "RjMM2IEgyYma",
        "colab": {
          "base_uri": "https://localhost:8080/"
        },
        "outputId": "5a48fea6-6551-4f41-ed3f-eb11ce32d786"
      },
      "execution_count": 28,
      "outputs": [
        {
          "output_type": "stream",
          "name": "stdout",
          "text": [
            "Final dataset shape: (0, 16)\n",
            "Empty DataFrame\n",
            "Columns: [invoice_id, branch, city, category, unit_price, quantity, date, time, payment_method, rating, profit_margin, day_of_week, month, hour, total_sales, profit]\n",
            "Index: []\n"
          ]
        }
      ]
    },
    {
      "cell_type": "code",
      "source": [
        "# Step 1: Convert 'quantity' and 'unit_price' to numeric\n",
        "df['quantity'] = pd.to_numeric(df['quantity'], errors='coerce')\n",
        "df['unit_price'] = pd.to_numeric(df['unit_price'], errors='coerce')\n",
        "\n",
        "# Step 2: Drop rows where quantity or unit_price are NaN after conversion\n",
        "df.dropna(subset=['quantity', 'unit_price'], inplace=True)\n",
        "\n",
        "# Step 3: Filter out zero or negative values\n",
        "df = df[(df['quantity'] > 0) & (df['unit_price'] > 0)]\n",
        "\n",
        "# Step 4: Print debug info\n",
        "print(\" Final shape after filtering:\", df.shape)\n",
        "print(df[['quantity', 'unit_price']].describe())\n",
        "print(df[['quantity', 'unit_price']].head())"
      ],
      "metadata": {
        "id": "KyfLKP91yun6",
        "colab": {
          "base_uri": "https://localhost:8080/"
        },
        "outputId": "2d482b96-e1b0-4c7f-a977-0397df3d316b"
      },
      "execution_count": 39,
      "outputs": [
        {
          "output_type": "stream",
          "name": "stdout",
          "text": [
            " Final shape after filtering: (0, 11)\n",
            "       quantity  unit_price\n",
            "count       0.0         0.0\n",
            "mean        NaN         NaN\n",
            "std         NaN         NaN\n",
            "min         NaN         NaN\n",
            "25%         NaN         NaN\n",
            "50%         NaN         NaN\n",
            "75%         NaN         NaN\n",
            "max         NaN         NaN\n",
            "Empty DataFrame\n",
            "Columns: [quantity, unit_price]\n",
            "Index: []\n"
          ]
        }
      ]
    },
    {
      "cell_type": "code",
      "source": [
        "# Clean and convert to numeric\n",
        "df['quantity'] = df['quantity'].astype(str).str.replace(r'[^\\d.]', '', regex=True)\n",
        "df['unit_price'] = df['unit_price'].astype(str).str.replace(r'[^\\d.]', '', regex=True)\n",
        "\n",
        "# Convert to float\n",
        "df['quantity'] = pd.to_numeric(df['quantity'], errors='coerce')\n",
        "df['unit_price'] = pd.to_numeric(df['unit_price'], errors='coerce')\n",
        "\n",
        "# Drop rows with NaNs and filter positive\n",
        "df.dropna(subset=['quantity', 'unit_price'], inplace=True)\n",
        "df = df[(df['quantity'] > 0) & (df['unit_price'] > 0)]\n",
        "\n",
        "# Check again\n",
        "print(\"Final shape after cleaning:\", df.shape)"
      ],
      "metadata": {
        "id": "0pQnI_uAy4yw",
        "colab": {
          "base_uri": "https://localhost:8080/"
        },
        "outputId": "5f251d8f-6275-460f-f61a-0721963c3bc6"
      },
      "execution_count": 26,
      "outputs": [
        {
          "output_type": "stream",
          "name": "stdout",
          "text": [
            "Final shape after cleaning: (0, 16)\n"
          ]
        }
      ]
    },
    {
      "cell_type": "code",
      "source": [
        "# Clean quantity and unit_price\n",
        "df = df[(df['quantity'] > 0) & (df['unit_price'] > 0)]\n",
        "\n",
        "# Fill missing profit_margin (if any)\n",
        "df['profit_margin'] = df['profit_margin'].fillna(0)\n",
        "\n",
        "# Convert to datetime\n",
        "df['date'] = pd.to_datetime(df['date'], errors='coerce')\n",
        "df['time'] = pd.to_datetime(df['time'], format='%H:%M:%S', errors='coerce').dt.time\n",
        "\n",
        "# Extract features\n",
        "df['day_of_week'] = df['date'].dt.day_name()\n",
        "df['month'] = df['date'].dt.month_name()\n",
        "df['hour'] = pd.to_datetime(df['time'], format='%H:%M:%S', errors='coerce').dt.hour\n",
        "\n",
        "# Create new metrics\n",
        "df['total_sales'] = df['unit_price'] * df['quantity']\n",
        "df['profit'] = df['total_sales'] * df['profit_margin']\n",
        "\n",
        "# Final check\n",
        "print(\"Final dataset shape:\", df.shape)\n",
        "df.head()"
      ],
      "metadata": {
        "id": "xI7qHLPGzcWl",
        "colab": {
          "base_uri": "https://localhost:8080/",
          "height": 90
        },
        "outputId": "e56abf9b-b8e0-4d1b-d220-784a0bbb6c14"
      },
      "execution_count": 27,
      "outputs": [
        {
          "output_type": "stream",
          "name": "stdout",
          "text": [
            "Final dataset shape: (0, 16)\n"
          ]
        },
        {
          "output_type": "execute_result",
          "data": {
            "text/plain": [
              "Empty DataFrame\n",
              "Columns: [invoice_id, branch, city, category, unit_price, quantity, date, time, payment_method, rating, profit_margin, day_of_week, month, hour, total_sales, profit]\n",
              "Index: []"
            ],
            "text/html": [
              "\n",
              "  <div id=\"df-ed9bd95d-107a-4e09-b80b-f634669d3287\" class=\"colab-df-container\">\n",
              "    <div>\n",
              "<style scoped>\n",
              "    .dataframe tbody tr th:only-of-type {\n",
              "        vertical-align: middle;\n",
              "    }\n",
              "\n",
              "    .dataframe tbody tr th {\n",
              "        vertical-align: top;\n",
              "    }\n",
              "\n",
              "    .dataframe thead th {\n",
              "        text-align: right;\n",
              "    }\n",
              "</style>\n",
              "<table border=\"1\" class=\"dataframe\">\n",
              "  <thead>\n",
              "    <tr style=\"text-align: right;\">\n",
              "      <th></th>\n",
              "      <th>invoice_id</th>\n",
              "      <th>branch</th>\n",
              "      <th>city</th>\n",
              "      <th>category</th>\n",
              "      <th>unit_price</th>\n",
              "      <th>quantity</th>\n",
              "      <th>date</th>\n",
              "      <th>time</th>\n",
              "      <th>payment_method</th>\n",
              "      <th>rating</th>\n",
              "      <th>profit_margin</th>\n",
              "      <th>day_of_week</th>\n",
              "      <th>month</th>\n",
              "      <th>hour</th>\n",
              "      <th>total_sales</th>\n",
              "      <th>profit</th>\n",
              "    </tr>\n",
              "  </thead>\n",
              "  <tbody>\n",
              "  </tbody>\n",
              "</table>\n",
              "</div>\n",
              "    <div class=\"colab-df-buttons\">\n",
              "\n",
              "  <div class=\"colab-df-container\">\n",
              "    <button class=\"colab-df-convert\" onclick=\"convertToInteractive('df-ed9bd95d-107a-4e09-b80b-f634669d3287')\"\n",
              "            title=\"Convert this dataframe to an interactive table.\"\n",
              "            style=\"display:none;\">\n",
              "\n",
              "  <svg xmlns=\"http://www.w3.org/2000/svg\" height=\"24px\" viewBox=\"0 -960 960 960\">\n",
              "    <path d=\"M120-120v-720h720v720H120Zm60-500h600v-160H180v160Zm220 220h160v-160H400v160Zm0 220h160v-160H400v160ZM180-400h160v-160H180v160Zm440 0h160v-160H620v160ZM180-180h160v-160H180v160Zm440 0h160v-160H620v160Z\"/>\n",
              "  </svg>\n",
              "    </button>\n",
              "\n",
              "  <style>\n",
              "    .colab-df-container {\n",
              "      display:flex;\n",
              "      gap: 12px;\n",
              "    }\n",
              "\n",
              "    .colab-df-convert {\n",
              "      background-color: #E8F0FE;\n",
              "      border: none;\n",
              "      border-radius: 50%;\n",
              "      cursor: pointer;\n",
              "      display: none;\n",
              "      fill: #1967D2;\n",
              "      height: 32px;\n",
              "      padding: 0 0 0 0;\n",
              "      width: 32px;\n",
              "    }\n",
              "\n",
              "    .colab-df-convert:hover {\n",
              "      background-color: #E2EBFA;\n",
              "      box-shadow: 0px 1px 2px rgba(60, 64, 67, 0.3), 0px 1px 3px 1px rgba(60, 64, 67, 0.15);\n",
              "      fill: #174EA6;\n",
              "    }\n",
              "\n",
              "    .colab-df-buttons div {\n",
              "      margin-bottom: 4px;\n",
              "    }\n",
              "\n",
              "    [theme=dark] .colab-df-convert {\n",
              "      background-color: #3B4455;\n",
              "      fill: #D2E3FC;\n",
              "    }\n",
              "\n",
              "    [theme=dark] .colab-df-convert:hover {\n",
              "      background-color: #434B5C;\n",
              "      box-shadow: 0px 1px 3px 1px rgba(0, 0, 0, 0.15);\n",
              "      filter: drop-shadow(0px 1px 2px rgba(0, 0, 0, 0.3));\n",
              "      fill: #FFFFFF;\n",
              "    }\n",
              "  </style>\n",
              "\n",
              "    <script>\n",
              "      const buttonEl =\n",
              "        document.querySelector('#df-ed9bd95d-107a-4e09-b80b-f634669d3287 button.colab-df-convert');\n",
              "      buttonEl.style.display =\n",
              "        google.colab.kernel.accessAllowed ? 'block' : 'none';\n",
              "\n",
              "      async function convertToInteractive(key) {\n",
              "        const element = document.querySelector('#df-ed9bd95d-107a-4e09-b80b-f634669d3287');\n",
              "        const dataTable =\n",
              "          await google.colab.kernel.invokeFunction('convertToInteractive',\n",
              "                                                    [key], {});\n",
              "        if (!dataTable) return;\n",
              "\n",
              "        const docLinkHtml = 'Like what you see? Visit the ' +\n",
              "          '<a target=\"_blank\" href=https://colab.research.google.com/notebooks/data_table.ipynb>data table notebook</a>'\n",
              "          + ' to learn more about interactive tables.';\n",
              "        element.innerHTML = '';\n",
              "        dataTable['output_type'] = 'display_data';\n",
              "        await google.colab.output.renderOutput(dataTable, element);\n",
              "        const docLink = document.createElement('div');\n",
              "        docLink.innerHTML = docLinkHtml;\n",
              "        element.appendChild(docLink);\n",
              "      }\n",
              "    </script>\n",
              "  </div>\n",
              "\n",
              "\n",
              "    </div>\n",
              "  </div>\n"
            ],
            "application/vnd.google.colaboratory.intrinsic+json": {
              "type": "dataframe",
              "variable_name": "df",
              "repr_error": "Out of range float values are not JSON compliant: nan"
            }
          },
          "metadata": {},
          "execution_count": 27
        }
      ]
    },
    {
      "cell_type": "code",
      "source": [
        "df.to_csv(\"cleaned_walmart_data.csv\", index=False)\n"
      ],
      "metadata": {
        "id": "KfIUsMz3zohN"
      },
      "execution_count": null,
      "outputs": []
    },
    {
      "cell_type": "code",
      "source": [
        "print(df.shape)\n",
        "print(df.head())\n",
        "df = df[(df['quantity'] > 0) & (df['unit_price'] > 0)]\n",
        "print(df.columns)                      # Check column names\n",
        "print(df[['quantity', 'unit_price']]) # Check sample data\n",
        "print(df.dtypes)                      # Check data types\n"
      ],
      "metadata": {
        "id": "LtCa-mMD0A9-"
      },
      "execution_count": null,
      "outputs": []
    },
    {
      "cell_type": "code",
      "source": [
        "from google.colab import files\n",
        "uploaded = files.upload()\n",
        "\n"
      ],
      "metadata": {
        "id": "rhVbbsOh0Wo-"
      },
      "execution_count": null,
      "outputs": []
    },
    {
      "cell_type": "code",
      "source": [
        "import pandas as pd\n",
        "df = pd.read_csv(\"Walmart.csv\")\n",
        "print(\"Original shape:\", df.shape)\n",
        "df.head()"
      ],
      "metadata": {
        "id": "jfLDYjQl0mHO"
      },
      "execution_count": null,
      "outputs": []
    },
    {
      "cell_type": "code",
      "source": [
        "print(df[['quantity', 'unit_price']].describe())"
      ],
      "metadata": {
        "id": "3mAKBlrS0rPJ"
      },
      "execution_count": null,
      "outputs": []
    },
    {
      "cell_type": "code",
      "source": [
        "print(df['unit_price'].describe())"
      ],
      "metadata": {
        "id": "KeczWjBy0z_4"
      },
      "execution_count": null,
      "outputs": []
    },
    {
      "cell_type": "code",
      "source": [
        "# Remove $ symbol and convert to float\n",
        "df['unit_price'] = df['unit_price'].replace('[\\$,]', '', regex=True).astype(float)\n",
        "\n",
        "# Verify it's now numeric\n",
        "print(df['unit_price'].describe())"
      ],
      "metadata": {
        "id": "9IrllOCg07qU"
      },
      "execution_count": null,
      "outputs": []
    },
    {
      "cell_type": "code",
      "source": [
        "df['total_sales'] = df['quantity'] * df['unit_price']\n",
        "df['profit'] = df['total_sales'] * df['profit_margin']\n",
        "print(df[['quantity', 'unit_price', 'total_sales', 'profit']].head())"
      ],
      "metadata": {
        "id": "QEUoPlOM1FGa"
      },
      "execution_count": null,
      "outputs": []
    },
    {
      "cell_type": "code",
      "source": [
        "print(\" Final shape:\", df.shape)\n",
        "print(df.describe(include='all'))"
      ],
      "metadata": {
        "id": "69ZirzI81KNA"
      },
      "execution_count": null,
      "outputs": []
    },
    {
      "cell_type": "code",
      "source": [
        "# Check for duplicates\n",
        "print(\"Duplicate rows:\", df.duplicated().sum())\n",
        "\n",
        "# Remove duplicates\n",
        "df = df.drop_duplicates()"
      ],
      "metadata": {
        "id": "ZUOr1bTI1YHF"
      },
      "execution_count": null,
      "outputs": []
    },
    {
      "cell_type": "code",
      "source": [
        "# Check missing values\n",
        "print(\"\\nMissing values:\\n\", df.isnull().sum())\n",
        "\n",
        "# Drop rows with nulls (if very few)\n",
        "df = df.dropna()"
      ],
      "metadata": {
        "id": "dICuMQ151aBb"
      },
      "execution_count": null,
      "outputs": []
    },
    {
      "cell_type": "code",
      "source": [
        "# Remove leading/trailing whitespace from string columns\n",
        "df = df.apply(lambda x: x.str.strip() if x.dtype == \"object\" else x)"
      ],
      "metadata": {
        "id": "RkinldsL1i1J"
      },
      "execution_count": null,
      "outputs": []
    },
    {
      "cell_type": "code",
      "source": [
        "df['total_sales'] = df['quantity'] * df['unit_price']\n",
        "df['profit'] = df['total_sales'] * df['profit_margin']"
      ],
      "metadata": {
        "id": "YqeWN4XQ1ojo"
      },
      "execution_count": null,
      "outputs": []
    },
    {
      "cell_type": "code",
      "source": [
        "print(\"Final shape:\", df.shape)\n",
        "print(\"Nulls after cleaning:\\n\", df.isnull().sum())\n",
        "print(\"Summary stats:\\n\", df.describe())"
      ],
      "metadata": {
        "colab": {
          "base_uri": "https://localhost:8080/"
        },
        "id": "YHUYBvoC1r_P",
        "outputId": "92e25672-5156-4f83-f82b-00114fc7cb40"
      },
      "execution_count": null,
      "outputs": [
        {
          "output_type": "stream",
          "name": "stdout",
          "text": [
            "Final shape: (9969, 13)\n",
            "Nulls after cleaning:\n",
            " invoice_id        0\n",
            "Branch            0\n",
            "City              0\n",
            "category          0\n",
            "unit_price        0\n",
            "quantity          0\n",
            "date              0\n",
            "time              0\n",
            "payment_method    0\n",
            "rating            0\n",
            "profit_margin     0\n",
            "total_sales       0\n",
            "profit            0\n",
            "dtype: int64\n",
            "Summary stats:\n",
            "          invoice_id   unit_price     quantity       rating  profit_margin  \\\n",
            "count   9969.000000  9969.000000  9969.000000  9969.000000    9969.000000   \n",
            "mean    5010.116561    50.622142     2.355602     5.828839       0.393744   \n",
            "std     2886.217349    21.203766     1.605455     1.763723       0.090659   \n",
            "min        1.000000    10.080000     1.000000     3.000000       0.180000   \n",
            "25%     2524.000000    32.000000     1.000000     4.000000       0.330000   \n",
            "50%     5016.000000    51.000000     2.000000     6.000000       0.330000   \n",
            "75%     7508.000000    69.000000     3.000000     7.000000       0.480000   \n",
            "max    10000.000000    99.960000    10.000000    10.000000       0.570000   \n",
            "\n",
            "       total_sales       profit  \n",
            "count  9969.000000  9969.000000  \n",
            "mean    121.348819    47.762005  \n",
            "std     112.678040    47.179160  \n",
            "min      10.170000     2.700000  \n",
            "25%      54.000000    20.460000  \n",
            "50%      88.000000    34.650000  \n",
            "75%     156.000000    60.480000  \n",
            "max     993.000000   507.716100  \n"
          ]
        }
      ]
    },
    {
      "cell_type": "code",
      "source": [
        "df.to_csv(\"cleaned_walmart_data.csv\", index=False)\n",
        "from google.colab import files\n",
        "files.download(\"cleaned_walmart_data.csv\")"
      ],
      "metadata": {
        "id": "3WmFyHLu1w6L",
        "colab": {
          "base_uri": "https://localhost:8080/",
          "height": 17
        },
        "outputId": "fe33a440-3f88-4f1a-bdbd-3975f95b86b9"
      },
      "execution_count": 3,
      "outputs": [
        {
          "output_type": "display_data",
          "data": {
            "text/plain": [
              "<IPython.core.display.Javascript object>"
            ],
            "application/javascript": [
              "\n",
              "    async function download(id, filename, size) {\n",
              "      if (!google.colab.kernel.accessAllowed) {\n",
              "        return;\n",
              "      }\n",
              "      const div = document.createElement('div');\n",
              "      const label = document.createElement('label');\n",
              "      label.textContent = `Downloading \"${filename}\": `;\n",
              "      div.appendChild(label);\n",
              "      const progress = document.createElement('progress');\n",
              "      progress.max = size;\n",
              "      div.appendChild(progress);\n",
              "      document.body.appendChild(div);\n",
              "\n",
              "      const buffers = [];\n",
              "      let downloaded = 0;\n",
              "\n",
              "      const channel = await google.colab.kernel.comms.open(id);\n",
              "      // Send a message to notify the kernel that we're ready.\n",
              "      channel.send({})\n",
              "\n",
              "      for await (const message of channel.messages) {\n",
              "        // Send a message to notify the kernel that we're ready.\n",
              "        channel.send({})\n",
              "        if (message.buffers) {\n",
              "          for (const buffer of message.buffers) {\n",
              "            buffers.push(buffer);\n",
              "            downloaded += buffer.byteLength;\n",
              "            progress.value = downloaded;\n",
              "          }\n",
              "        }\n",
              "      }\n",
              "      const blob = new Blob(buffers, {type: 'application/binary'});\n",
              "      const a = document.createElement('a');\n",
              "      a.href = window.URL.createObjectURL(blob);\n",
              "      a.download = filename;\n",
              "      div.appendChild(a);\n",
              "      a.click();\n",
              "      div.remove();\n",
              "    }\n",
              "  "
            ]
          },
          "metadata": {}
        },
        {
          "output_type": "display_data",
          "data": {
            "text/plain": [
              "<IPython.core.display.Javascript object>"
            ],
            "application/javascript": [
              "download(\"download_7472c3e4-114c-4614-9963-801e0fd53678\", \"cleaned_walmart_data.csv\", 888813)"
            ]
          },
          "metadata": {}
        }
      ]
    }
  ]
}